{
 "cells": [
  {
   "cell_type": "code",
   "execution_count": 2,
   "metadata": {},
   "outputs": [
    {
     "name": "stdout",
     "output_type": "stream",
     "text": [
      "1\n",
      "2\n",
      "3\n",
      "4\n",
      "5\n"
     ]
    }
   ],
   "source": [
    "# 创建一个迭代器\n",
    "class MyNumbers:\n",
    "    def __iter__(self):\n",
    "        self.a=1\n",
    "        return self\n",
    "    def __next__(self):\n",
    "        x =self.a\n",
    "        self.a +=1\n",
    "        return x\n",
    "    \n",
    "myclass = MyNumbers()\n",
    "myiter = iter(myclass)\n",
    " \n",
    "print(next(myiter))\n",
    "print(next(myiter))\n",
    "print(next(myiter))\n",
    "print(next(myiter))\n",
    "print(next(myiter))"
   ]
  },
  {
   "cell_type": "code",
   "execution_count": 2,
   "metadata": {},
   "outputs": [
    {
     "name": "stdout",
     "output_type": "stream",
     "text": [
      "1\n",
      "2\n",
      "3\n",
      "4\n",
      "5\n",
      "6\n",
      "7\n",
      "8\n",
      "9\n",
      "10\n",
      "11\n",
      "12\n",
      "13\n",
      "14\n",
      "15\n",
      "16\n",
      "17\n",
      "18\n",
      "19\n",
      "20\n"
     ]
    }
   ],
   "source": [
    "# StopIteration  \n",
    "# StopIteration 异常用于标识迭代的完成，防止出现无限循环的情况，在 __next__() 方法中我们可以设置在完成指定循环次数后触发 StopIteration 异常来结束迭代。\n",
    "\n",
    "class MyNumbers:\n",
    "    def __iter__(self):\n",
    "        self.a = 1\n",
    "        return self\n",
    "    def __next__(self):\n",
    "        if self.a <= 20:\n",
    "            x = self.a\n",
    "            self.a +=1\n",
    "            return x\n",
    "        else:\n",
    "            raise StopIteration\n",
    "\n",
    "myclass = MyNumbers()\n",
    "myiter = iter(myclass)\n",
    "for x in myiter:\n",
    "    print(x)"
   ]
  },
  {
   "cell_type": "code",
   "execution_count": 13,
   "metadata": {},
   "outputs": [
    {
     "name": "stdout",
     "output_type": "stream",
     "text": [
      "0 1 1 2 "
     ]
    }
   ],
   "source": [
    "# 生成器\n",
    "# 在 Python 中，使用了 yield 的函数被称为生成器（generator）。\n",
    "# 跟普通函数不同的是，生成器是一个返回迭代器的函数，只能用于迭代操作，更简单点理解生成器就是一个迭代器。\n",
    "# 在调用生成器运行的过程中，每次遇到 yield 时函数会暂停并保存当前所有的运行信息，返回 yield 的值, 并在下一次执行 next() 方法时从当前位置继续运行。\n",
    "\n",
    "import sys\n",
    " \n",
    "def fibonacci(n): # 生成器函数 - 斐波那契\n",
    "    a, b, counter = 0, 1, 0\n",
    "    while True:\n",
    "        if (counter > n): \n",
    "            return\n",
    "        yield a\n",
    "        a, b = b, a + b\n",
    "        counter += 1\n",
    "f = fibonacci(10) # f 是一个迭代器，由生成器返回生成\n",
    " \n",
    "print (next(f), end=\" \")\n",
    "print (next(f), end=\" \")\n",
    "print (next(f), end=\" \")\n",
    "print (next(f), end=\" \")\n"
   ]
  },
  {
   "cell_type": "code",
   "execution_count": 30,
   "metadata": {},
   "outputs": [
    {
     "name": "stdout",
     "output_type": "stream",
     "text": [
      "小伙\n",
      "输出: 12\n",
      "{'a': 12, 'b': 14}\n",
      "9\n"
     ]
    }
   ],
   "source": [
    "# 函数关键字参数\n",
    "\n",
    "def printme(str):\n",
    "    print(str)\n",
    "    return \n",
    "printme(str='小伙')\n",
    "\n",
    "# def printinfo(name,age):\n",
    "#     print(\"名字: \", name)\n",
    "#     print(\"年龄:\",age)\n",
    "#     return \n",
    "\n",
    "# printinfo(age=50,name=\"裸奔\")\n",
    "\n",
    "# 不定长参数\n",
    "# def printinfo( arg1, *vartuple ):\n",
    "#     # 打印任何传入的参数\n",
    "#     print(\"输出:\")\n",
    "#     print(arg1)\n",
    "#     print(vartuple)\n",
    "# printinfo( 10 )\n",
    "# printinfo(70, 60,  50 )\n",
    "def printinfo(arg1,**vartuple):\n",
    "    print(\"输出:\",arg1)\n",
    "    print(vartuple)\n",
    "\n",
    "printinfo(12,a=12,b=14)\n",
    "\n",
    "# 声明函数时，参数中星号 * 可以单独出现 如果单独出现星号 * 后的参数必须用关键字传入\n",
    "\n",
    "def f(a,b,*,c,d):\n",
    "    print(a+b+c+d)\n",
    "\n",
    "f(1,2,c=4,d=2)"
   ]
  },
  {
   "cell_type": "code",
   "execution_count": 32,
   "metadata": {},
   "outputs": [
    {
     "name": "stdout",
     "output_type": "stream",
     "text": [
      "30\n"
     ]
    }
   ],
   "source": [
    "# 匿名函数\n",
    "# python 使用 lambda 来创建匿名函数。\n",
    "# 所谓匿名，意即不再使用 def 语句这样标准的形式定义一个函数。\n",
    "\n",
    "# lambda 只是一个表达式，函数体比 def 简单很多。\n",
    "# lambda的主体是一个表达式，而不是一个代码块。仅仅能在lambda表达式中封装有限的逻辑进去。\n",
    "# lambda 函数拥有自己的命名空间，且不能访问自己参数列表之外或全局命名空间里的参数。\n",
    "# 虽然lambda函数看起来只能写一行，却不等同于C或C++的内联函数，后者的目的是调用小函数时不占用栈内存从而增加运行效率。\n",
    "\n",
    "# sum = lambda arg1, arg2: arg1 + arg2\n",
    "# print (\"相加后的值为 : \", sum( 10, 20 ))\n",
    "# print (\"相加后的值为 : \", sum( 20, 20 ))\n",
    "\n",
    "# return语句\n",
    "def sum(arg1,arg2):\n",
    "    # 返回2个参数的和\n",
    "    total = arg1+arg2\n",
    "    return total\n",
    "total = sum( 10, 20 )\n",
    "print(total)\n",
    "# 变量作用域\n",
    "# Python的作用域一共有4种，分别是：\n",
    "# L （Local） 局部作用域\n",
    "# E （Enclosing） 闭包函数外的函数中\n",
    "# G （Global） 全局作用域\n",
    "# B （Built-in） 内建作用域\n",
    "\n",
    "x = int(2.9)  # 内建作用域\n",
    " \n",
    "g_count = 0  # 全局作用域\n",
    "\n",
    "def outher():\n",
    "    o_count = 1  # 闭包函数外的函数中\n",
    "    def inner():\n",
    "        i_count = 2  # 局部作用域\n"
   ]
  },
  {
   "cell_type": "code",
   "execution_count": 39,
   "metadata": {},
   "outputs": [
    {
     "name": "stdout",
     "output_type": "stream",
     "text": [
      "函数内是局部变量 :  30\n",
      "函数外是全局变量 :  0\n",
      "1\n",
      "123\n",
      "123\n",
      "100\n",
      "100\n",
      "11\n"
     ]
    }
   ],
   "source": [
    "# 全局变量和局部变量\n",
    "total = 0 # 这是一个全局变量\n",
    "# 可写函数说明\n",
    "def sum( arg1, arg2 ):\n",
    "    #返回2个参数的和.\"\n",
    "    total = arg1 + arg2 # total在这里是局部变量.\n",
    "    print (\"函数内是局部变量 : \", total)\n",
    "    return total\n",
    " \n",
    "#调用sum函数\n",
    "sum( 10, 20 )\n",
    "print (\"函数外是全局变量 : \", total)\n",
    "\n",
    "# global 和 nonlocal关键字\n",
    "\n",
    "num = 1\n",
    "\n",
    "def fun1():\n",
    "    global num # 需要使用 global 关键字声明\n",
    "    print(num)\n",
    "    num = 123\n",
    "    print(num)\n",
    "    \n",
    "fun1()\n",
    "print(num)\n",
    "\n",
    "# 如果要修改嵌套作用域（enclosing 作用域，外层非全局作用域）中的变量则需要 nonlocal 关键字了，如下实例：\n",
    "\n",
    "def outer():\n",
    "    num= 10\n",
    "    def inner():\n",
    "        nonlocal num # nonlocal关键字声明\n",
    "        num = 100\n",
    "        print(num)\n",
    "    inner()\n",
    "    print(num)\n",
    "\n",
    "outer()\n",
    "\n",
    "# 特殊情况\n",
    "\n",
    "a = 10\n",
    "def test(a):\n",
    "    a = a + 1\n",
    "    print(a)\n",
    "test(a)"
   ]
  },
  {
   "cell_type": "code",
   "execution_count": 63,
   "metadata": {},
   "outputs": [
    {
     "name": "stdout",
     "output_type": "stream",
     "text": [
      "2 1 0\n",
      "[66.25, 333, 333, 1, 1234.5, 333]\n",
      "[66.25, 333, 1, 1234.5, 333]\n",
      "[333, 1234.5, 1, 333, 66.25]\n",
      "[1, 66.25, 333, 333, 1234.5]\n",
      "[3, 4, 5, 6, 7]\n",
      "[3, 4, 5, 6]\n"
     ]
    }
   ],
   "source": [
    "# 数据结构\n",
    "# 列表\n",
    "a = [66.25, 333, 333, 1, 1234.5]\n",
    "print(a.count(333), a.count(66.25), a.count('x'))\n",
    "# a.insert(2, -1)\n",
    "# a\n",
    "a.append(333)\n",
    "# a\n",
    "# a.index(-1)\n",
    "# a.remove(333)\n",
    "print(a)\n",
    "a.remove(333)\n",
    "print(a)\n",
    "a.reverse()\n",
    "print(a)\n",
    "a.sort()\n",
    "print(a)\n",
    "\n",
    "# 将列表当做堆栈使用\n",
    "stack = [3, 4, 5]\n",
    "stack.append(6)\n",
    "stack.append(7)\n",
    "print(stack)\n",
    "stack.pop()\n",
    "print(stack)\n"
   ]
  },
  {
   "cell_type": "code",
   "execution_count": 100,
   "metadata": {},
   "outputs": [
    {
     "name": "stdout",
     "output_type": "stream",
     "text": [
      "deque(['Eric', 'John', 'Michael'])\n",
      "deque(['Eric', 'John', 'Michael', '大爷的'])\n",
      "Eric\n",
      "[9, 81, 729]\n",
      "[[2, 4], [4, 16], [6, 36]]\n",
      "[8, 6, -18, 16, 12, -36, 24, 18, -54]\n",
      "['3.1', '3.14', '3.142', '3.1416', '3.14159']\n",
      "[[1, 5, 9], [2, 6, 10], [3, 7, 11], [4, 8, 12]]\n",
      "[-1, 1, 66.25, 333, 333, 1234.5]\n",
      "[1, 66.25, 333, 333, 1234.5]\n",
      "[]\n"
     ]
    }
   ],
   "source": [
    "# 将列表当作队列使用\n",
    "# 也可以把列表当做队列用，只是在队列里第一加入的元素，第一个取出来；但是拿列表用作这样的目的效率不高。在列表的最后添加或者弹出元素速度快，然而在列表里插入或者从头部弹出速度却不快（因为所有其他的元素都得一个一个地移动）。\n",
    "\n",
    "from collections import deque\n",
    "queue = deque([\"Eric\", \"John\", \"Michael\"])\n",
    "print(queue)\n",
    "queue.append('大爷的')\n",
    "print(queue)\n",
    "print(queue.popleft())\n",
    "\n",
    "# 列表推导式\n",
    "vec = [2, 4, 6]\n",
    "vec1 = [4,3,-9]\n",
    "print([3**x for x in vec])\n",
    "print([[x, x**2] for x in vec])\n",
    "\n",
    "print( [x*y for x in vec for y in vec1])\n",
    "\n",
    "print([str(round(355/113, i)) for i in range(1, 6)])\n",
    "\n",
    "\n",
    "# 嵌套列表解析\n",
    "matrix =[\n",
    "    [1,2,3,4],\n",
    "    [5,6,7,8],\n",
    "    [9,10,11,12]\n",
    "]\n",
    "\n",
    "print([[row[i] for row in matrix] for i in range(4)])\n",
    "\n",
    "# del 语句\n",
    "# 使用 del 语句可以从一个列表中依索引而不是值来删除一个元素。这与使用 pop() 返回一个值不同。可以用 del 语句从列表中删除一个切割，或清空整个列表（我们以前介绍的方法是给该切割赋一个空列表）。\n",
    "\n",
    "a = [-1, 1, 66.25, 333, 333, 1234.5]\n",
    "print(a)\n",
    "del a[0]\n",
    "print(a)\n",
    "# del a[0:2]\n",
    "del a[:]\n",
    "print(a)"
   ]
  },
  {
   "cell_type": "code",
   "execution_count": 118,
   "metadata": {},
   "outputs": [
    {
     "name": "stdout",
     "output_type": "stream",
     "text": [
      "{'apple', 'banana', 'orange', 'pear'}\n",
      "{'apple', 'banana', 'orange', 'pear'}\n"
     ]
    },
    {
     "data": {
      "text/plain": [
       "{'a', 'g', 's'}"
      ]
     },
     "execution_count": 118,
     "metadata": {},
     "output_type": "execute_result"
    }
   ],
   "source": [
    "# 元组和序列 元组由若干逗号分隔的值组成\n",
    "t = 12345, 54321, 'hello!'\n",
    "t[0]\n",
    "t\n",
    "u= t ,(1,1,2,3,4)\n",
    "u\n",
    "# 集合\n",
    "# 集合是一个无序不重复元素的集。基本功能包括关系测试和消除重复元素。\n",
    "basket = {'apple', 'orange', 'apple', 'pear', 'orange', 'banana'}\n",
    "print(basket)\n",
    "ba = set(basket)\n",
    "print(ba)\n",
    "\n",
    "# 检测成员\n",
    "'apple' in basket\n",
    "\n",
    "# 集合操作\n",
    "a = set('abcdefsg')\n",
    "b = set('bcdef')\n",
    "a^b\n",
    "a | b\n",
    "a & b\n",
    "a - b"
   ]
  },
  {
   "cell_type": "code",
   "execution_count": null,
   "metadata": {},
   "outputs": [],
   "source": []
  }
 ],
 "metadata": {
  "kernelspec": {
   "display_name": "Python 3",
   "language": "python",
   "name": "python3"
  },
  "language_info": {
   "codemirror_mode": {
    "name": "ipython",
    "version": 3
   },
   "file_extension": ".py",
   "mimetype": "text/x-python",
   "name": "python",
   "nbconvert_exporter": "python",
   "pygments_lexer": "ipython3",
   "version": "3.7.0"
  }
 },
 "nbformat": 4,
 "nbformat_minor": 2
}
