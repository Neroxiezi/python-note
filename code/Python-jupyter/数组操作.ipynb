{
 "cells": [
  {
   "cell_type": "markdown",
   "metadata": {},
   "source": [
    "### Numpy 学习\n",
    "Numpy是Python的一个很重要的第三方库，很多其他科学计算的第三方库都是以Numpy为基础建立的。"
   ]
  },
  {
   "cell_type": "code",
   "execution_count": 9,
   "metadata": {},
   "outputs": [
    {
     "data": {
      "text/plain": [
       "array([1.000e+00, 8.000e-03, 8.100e+01, 4.096e+03])"
      ]
     },
     "execution_count": 9,
     "metadata": {},
     "output_type": "execute_result"
    }
   ],
   "source": [
    "from numpy import *\n",
    "a = [1,.2,3,4]\n",
    "# a+1\n",
    "a = array(a)\n",
    "a\n",
    "a+1\n",
    "\n",
    "# 与另一个 array 相加，得到对应元素相加的结果：\n",
    "b = array([1,3,4,6])\n",
    "a+b\n",
    "\n",
    "# 对应元素相乘：\n",
    "\n",
    "a*b\n",
    "\n",
    "# 乘方\n",
    "\n",
    "a ** b\n"
   ]
  },
  {
   "cell_type": "code",
   "execution_count": 23,
   "metadata": {},
   "outputs": [
    {
     "data": {
      "text/plain": [
       "array([[1. , 0.2],\n",
       "       [3. , 4. ]])"
      ]
     },
     "execution_count": 23,
     "metadata": {},
     "output_type": "execute_result"
    }
   ],
   "source": [
    "# 提取数组中的元素\n",
    "a[0]\n",
    "a[:2]\n",
    "a[-2]\n",
    "a[-2:]\n",
    "a[:2] + a[-2:]\n",
    "\n",
    "# 查看 array 的形状：\n",
    "\n",
    "a.shape\n",
    "a.shape = 2,2\n",
    "a\n"
   ]
  },
  {
   "cell_type": "code",
   "execution_count": 47,
   "metadata": {},
   "outputs": [
    {
     "data": {
      "text/plain": [
       "array([[1, 2],\n",
       "       [3, 4],\n",
       "       [5, 6]])"
      ]
     },
     "execution_count": 47,
     "metadata": {},
     "output_type": "execute_result"
    }
   ],
   "source": [
    "# 多维数组相加\n",
    "c = [1,2,3,4,5,6]\n",
    "c = array(c)\n",
    "c + c\n",
    "c.shape\n",
    "c.shape = 3,2\n",
    "c"
   ]
  },
  {
   "cell_type": "code",
   "execution_count": 55,
   "metadata": {},
   "outputs": [
    {
     "data": {
      "text/plain": [
       "array([ True,  True,  True,  True,  True,  True,  True,  True,  True,\n",
       "        True,  True, False, False, False, False, False, False, False,\n",
       "       False, False, False])"
      ]
     },
     "execution_count": 55,
     "metadata": {},
     "output_type": "execute_result"
    }
   ],
   "source": [
    "# 画图\n",
    "a = linspace(0, 2*pi, 21)\n",
    "a\n",
    "b = sin(a)\n",
    "b\n",
    "b >= 0"
   ]
  },
  {
   "cell_type": "code",
   "execution_count": 73,
   "metadata": {},
   "outputs": [],
   "source": [
    "# 产生一个复数数组\n",
    "a = array([1 + 1j, 2, 3, 4])\n",
    "a\n",
    "a.dtype\n",
    "a.real\n",
    "a.imag\n",
    "a.imag = [1,2,3,4]\n",
    "a\n",
    "a.conj()\n",
    "\n",
    "# 指定数组类型\n",
    "a = array([0,1.0,2,3])\n",
    "a\n",
    "a.dtype\n",
    "a.nbytes\n",
    "\n",
    "a = array([0,1.0,2,3],dtype=float32)\n",
    "a.dtype\n",
    "a.nbytes\n",
    "\n",
    "# 写入二进制数据\n",
    "a = array([102,111,212], \n",
    "          dtype=uint8)\n",
    "a.tofile('foo.dat')\n",
    "import os\n",
    "os.remove('foo.dat')"
   ]
  },
  {
   "cell_type": "code",
   "execution_count": 81,
   "metadata": {},
   "outputs": [
    {
     "data": {
      "text/plain": [
       "True"
      ]
     },
     "execution_count": 81,
     "metadata": {},
     "output_type": "execute_result"
    }
   ],
   "source": [
    "# 类型转换\n",
    "\n",
    "a = array([1.5, -3], dtype=float32)\n",
    "a\n",
    "# asarray 函数\n",
    "b = asarray(a, dtype=float32)\n",
    "b\n",
    "b is a"
   ]
  },
  {
   "cell_type": "code",
   "execution_count": 89,
   "metadata": {},
   "outputs": [
    {
     "data": {
      "text/plain": [
       "720"
      ]
     },
     "execution_count": 89,
     "metadata": {},
     "output_type": "execute_result"
    }
   ],
   "source": [
    "# 数组方法\n",
    "# %pylab\n",
    "a = array([[1,2,3], [4,5,6]])\n",
    "sum(a)\n",
    "# 指定求和的维度：\n",
    "# 沿着第一维求和：\n",
    "sum(a, axis=0)\n",
    "\n",
    "# 沿着第二维求和：\n",
    "sum(a, axis=1)\n",
    "\n",
    "# 沿着最后一维求和：\n",
    "sum(a, axis=-1)\n",
    "a.sum()\n",
    "\n",
    "# 求积\n",
    "\n",
    "a.prod()"
   ]
  },
  {
   "cell_type": "code",
   "execution_count": 141,
   "metadata": {},
   "outputs": [
    {
     "data": {
      "text/plain": [
       "array([1.4, 2.5, 1.5])"
      ]
     },
     "execution_count": 141,
     "metadata": {},
     "output_type": "execute_result"
    }
   ],
   "source": [
    "# 求最大最小值\n",
    "from numpy.random import rand\n",
    "a = rand(3,4)\n",
    "%precision 3\n",
    "# a.min()\n",
    "# a.min(axis=0)\n",
    "# a.max()\n",
    "# a.max(axis=-1)\n",
    "\n",
    "# 最大值 和最小值\n",
    "a.argmin()\n",
    "\n",
    "# 均值\n",
    "a = array([[1,4,3],[2,5,6]])\n",
    "a.max()\n",
    "a.min(axis=0)\n",
    "a.max()\n",
    "a.max(axis=0)\n",
    "a.mean(axis=-1)\n",
    "\n",
    "# 标准差\n",
    "# 用 std 方法计算标准差：\n",
    "a.std(axis=1)\n",
    "\n",
    "# 用 var 方法计算方差：\n",
    "a.var(axis=1)\n",
    "\n",
    "# clip 方法\n",
    "a\n",
    "a.clip(3,5)\n",
    "\n",
    "# ptp 方法\n",
    "# 计算最大值和最小值之差：\n",
    "a.ptp()\n",
    "a.ptp(axis=0)\n",
    "\n",
    "# round 方法\n",
    "\n",
    "a = array([1.35, 2.5, 1.5])\n",
    "a.round()\n",
    "a.round(decimals=1)\n"
   ]
  },
  {
   "cell_type": "code",
   "execution_count": 153,
   "metadata": {},
   "outputs": [
    {
     "data": {
      "text/plain": [
       "array([20.8, 53.4, 61.8, 93.2])"
      ]
     },
     "execution_count": 153,
     "metadata": {},
     "output_type": "execute_result"
    }
   ],
   "source": [
    "# 数组排序\n",
    "# sort 函数\n",
    "names = array(['bob', 'sue', 'jan', 'ad'])\n",
    "weights = array([20.8, 93.2, 53.4, 61.8])\n",
    "# sort 返回的结果是从小到大排列的。\n",
    "sort(names)\n",
    "sort(weights)\n",
    "\n",
    "# argsort 函数  返回从小到大的排列在数组中的索引位置：\n",
    "ordered_indices = argsort(weights)\n",
    "ordered_indices\n",
    "# 可以用它来进行索引：\n",
    "weights[ordered_indices]\n",
    "names[ordered_indices]\n",
    "names\n",
    "\n",
    "# sort 和 argsort 方法\n",
    "data = array([20.8,  93.2,  53.4,  61.8])\n",
    "data.argsort()\n",
    "# argsort 方法与 argsort 函数的使用没什么区别，也不会改变数组的值。\n",
    "data.sort()\n",
    "data\n"
   ]
  },
  {
   "cell_type": "code",
   "execution_count": 171,
   "metadata": {},
   "outputs": [
    {
     "data": {
      "text/plain": [
       "array([0.414, 0.418, 0.424, 0.425, 0.438, 0.465, 0.466, 0.471, 0.488,\n",
       "       0.488, 0.499, 0.503, 0.509, 0.517, 0.525, 0.53 , 0.53 , 0.556,\n",
       "       0.562, 0.564, 0.579, 0.591])"
      ]
     },
     "execution_count": 171,
     "metadata": {},
     "output_type": "execute_result"
    }
   ],
   "source": [
    "# 二维数组排序\n",
    "a = array([\n",
    "        [.2, .1, .5], \n",
    "        [.4, .8, .3],\n",
    "        [.9, .6, .7]\n",
    "    ])\n",
    "# sort(a)\n",
    "sort(a, axis = -1)\n",
    "\n",
    "from numpy.random import rand\n",
    "data = rand(100)\n",
    "data.sort()\n",
    "data\n",
    "\n",
    "bounds = .4, .6\n",
    "bounds\n",
    "low_idx, high_idx = searchsorted(data, bounds)\n",
    "data[low_idx:high_idx]"
   ]
  },
  {
   "cell_type": "code",
   "execution_count": 219,
   "metadata": {},
   "outputs": [
    {
     "data": {
      "text/plain": [
       "array([[ 0,  3],\n",
       "       [12, 12],\n",
       "       [ 2,  5]])"
      ]
     },
     "execution_count": 219,
     "metadata": {},
     "output_type": "execute_result"
    }
   ],
   "source": [
    "# 数组形状\n",
    "a = arange(6)\n",
    "a\n",
    "# 修改数组的形状\n",
    "a.shape = 2,3\n",
    "a\n",
    "# 与之对应的方法是 reshape ，但它不会修改原来数组的值，而是返回一个新的数组：\n",
    "# shape 和 reshape 方法不能改变数组中元素的总数，否则会报错：\n",
    "a.reshape(3,2)\n",
    "\n",
    "# 使用 newaxis 增加数组维数\n",
    "a =arange(3)\n",
    "shape(a)\n",
    "y =a[newaxis,:]\n",
    "shape(y)\n",
    "# 根据插入位置的不同，可以返回不同形状的数组：\n",
    "y = a[:,newaxis]\n",
    "shape(y)\n",
    "# 插入多个新维度：\n",
    "y = a[newaxis, newaxis, :]\n",
    "shape(y)\n",
    "\n",
    "# squeeze 方法去除多余的轴\n",
    "\n",
    "a = arange(6)\n",
    "a.shape\n",
    "a.shape=(2,1,3)\n",
    "a\n",
    "# squeeze 返回一个将所有长度为1的维度去除的新数组。\n",
    "b = a.squeeze()\n",
    "b.shape\n",
    "\n",
    "# 数组转置\n",
    "a\n",
    "a.transpose()\n",
    "a.T\n",
    "\n",
    "a = arange(60)\n",
    "a.shape = 3,4,5\n",
    "b = a.T\n",
    "b.shape\n",
    "a = arange(6)\n",
    "a.shape\n",
    "a.shape = (2,3)\n",
    "b = a.T\n",
    "b.shape\n",
    "b[1]=12\n",
    "b\n"
   ]
  },
  {
   "cell_type": "code",
   "execution_count": 241,
   "metadata": {},
   "outputs": [
    {
     "name": "stdout",
     "output_type": "stream",
     "text": [
      "(2, 3)\n",
      "(2, 3)\n",
      "[[ 0  1  2 50 51 52]\n",
      " [10 11 12 60 61 62]]\n",
      "\n",
      "===============================\n",
      "\n",
      "[[ 0  1  2]\n",
      " [10 11 12]\n",
      " [50 51 52]\n",
      " [60 61 62]]\n",
      "\n",
      "[[ 0  1  2 50 51 52]\n",
      " [10 11 12 60 61 62]]\n",
      "\n",
      "[[[ 0 50]\n",
      "  [ 1 51]\n",
      "  [ 2 52]]\n",
      "\n",
      " [[10 60]\n",
      "  [11 61]\n",
      "  [12 62]]]\n"
     ]
    }
   ],
   "source": [
    "# 数组连接\n",
    "x = array([\n",
    "        [0,1,2],\n",
    "        [10,11,12]\n",
    "    ])\n",
    "y = array([\n",
    "        [50,51,52],\n",
    "        [60,61,62]\n",
    "    ])\n",
    "print(x.shape)\n",
    "print(y.shape)\n",
    "z = concatenate((x,y))\n",
    "z\n",
    "z.shape\n",
    "z = concatenate((x,y), axis=-1)\n",
    "print(z)\n",
    "z.shape\n",
    "z = array((x,y))\n",
    "z\n",
    "print(\"\\n===============================\\n\")\n",
    "print(vstack((x, y)))\n",
    "print()\n",
    "print(hstack((x, y)))\n",
    "print()\n",
    "print(dstack((x, y)))"
   ]
  },
  {
   "cell_type": "code",
   "execution_count": 252,
   "metadata": {},
   "outputs": [
    {
     "name": "stdout",
     "output_type": "stream",
     "text": [
      "[[0 1]\n",
      " [2 3]]\n",
      "[10  1  2  3]\n",
      "\n",
      "=================\n",
      "\n",
      "[[0 1]\n",
      " [2 3]]\n",
      "[[12  1]\n",
      " [ 2  3]]\n"
     ]
    }
   ],
   "source": [
    "\n",
    "# flatten 方法的作用是将多维数组转化为1维数组：\n",
    "a = array([[0,1],[2,3]])\n",
    "b = a.flatten()\n",
    "b[0]=10\n",
    "print(a)\n",
    "print(b)\n",
    "# flat 属性\n",
    "b = a.flat\n",
    "b[3]\n",
    "# 此时修改 b 的值会影响 a\n",
    "print('\\n=================\\n')\n",
    "print(a)\n",
    "b[0]=12\n",
    "print(a)"
   ]
  },
  {
   "cell_type": "code",
   "execution_count": null,
   "metadata": {},
   "outputs": [],
   "source": []
  }
 ],
 "metadata": {
  "kernelspec": {
   "display_name": "Python 3",
   "language": "python",
   "name": "python3"
  },
  "language_info": {
   "codemirror_mode": {
    "name": "ipython",
    "version": 3
   },
   "file_extension": ".py",
   "mimetype": "text/x-python",
   "name": "python",
   "nbconvert_exporter": "python",
   "pygments_lexer": "ipython3",
   "version": "3.7.0"
  }
 },
 "nbformat": 4,
 "nbformat_minor": 2
}
