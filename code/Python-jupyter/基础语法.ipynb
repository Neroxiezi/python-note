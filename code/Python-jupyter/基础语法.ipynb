{
 "cells": [
  {
   "cell_type": "code",
   "execution_count": 21,
   "metadata": {},
   "outputs": [
    {
     "name": "stdout",
     "output_type": "stream",
     "text": [
      "a=1,b=2,c=3\n",
      "a=4,b=5,c=6\n",
      "a=6,b=7,c=8\n"
     ]
    },
    {
     "data": {
      "text/plain": [
       "4"
      ]
     },
     "execution_count": 21,
     "metadata": {},
     "output_type": "execute_result"
    }
   ],
   "source": [
    "# 元祖\n",
    "tup = 4,5,6\n",
    "tup\n",
    "\n",
    "nested_tup = (4,5,6),(7,8)\n",
    "nested_tup\n",
    "\n",
    "#用tuple可以将任意序列或迭代器转换成元组：\n",
    "tuple([4,0,2])\n",
    "\n",
    "tup_1 = tuple('string')\n",
    "tup_1\n",
    "tup_1[0]\n",
    "#可以用加号运算符将元组串联起来：\n",
    "(4,None,'foo') + (6,0)+('bar',)\n",
    "\n",
    "a,b = 1,2\n",
    "a\n",
    "b\n",
    "b,a = a,b\n",
    "a\n",
    "b\n",
    "\n",
    "# 变量拆分常用来迭代元组或列表序列：\n",
    "\n",
    "seq = [(1,2,3),(4,5,6),(6,7,8)]\n",
    "\n",
    "for a,b,c in seq:\n",
    "    print('a={0},b={1},c={2}'.format(a,b,c))\n",
    "\n",
    "values = 1,2,3,4,5\n",
    "# rest的部分是想要舍弃的部分，rest的名字不重要。\n",
    "a,b, *rest = values\n",
    "a,b\n",
    "rest\n",
    "\n",
    "a,b,*_ = values\n",
    "\n",
    "a,b\n",
    "_\n",
    "\n",
    "# tuple方法\n",
    "a = (1,2,2,2,3,4,2)\n",
    "\n",
    "a.count(2)\n"
   ]
  },
  {
   "cell_type": "code",
   "execution_count": 49,
   "metadata": {},
   "outputs": [
    {
     "data": {
      "text/plain": [
       "True"
      ]
     },
     "execution_count": 49,
     "metadata": {},
     "output_type": "execute_result"
    }
   ],
   "source": [
    "# 列表\n",
    "a_list = [1,3,7,None]\n",
    "tup = ('foo', 'bar', 'baz')\n",
    "\n",
    "b_list = list(tup)\n",
    "b_list\n",
    "\n",
    "b_list[1] = 'peekabo'\n",
    "b_list\n",
    "\n",
    "# list函数常用来在数据处理中实体化迭代器或生成器\n",
    "\n",
    "gen = range(10)\n",
    "gen\n",
    "list(gen)\n",
    "\n",
    "# 添加和删除元素\n",
    "\n",
    "b_list.append('dwarf')\n",
    "b_list\n",
    "\n",
    "b_list.insert(1,'red')\n",
    "b_list\n",
    "b_list.pop(2)\n",
    "b_list.append('fool')\n",
    "b_list\n",
    "b_list.remove('foo')\n",
    "\n",
    "b_list\n",
    "\n",
    "'foo' not in b_list\n"
   ]
  },
  {
   "cell_type": "code",
   "execution_count": 128,
   "metadata": {},
   "outputs": [
    {
     "data": {
      "text/plain": [
       "[0, 1, 5, 4, 7, 3, 2, 7]"
      ]
     },
     "execution_count": 128,
     "metadata": {},
     "output_type": "execute_result"
    }
   ],
   "source": [
    "# 串联和组合列表\n",
    "[3, None, 'foo'] + [7,8,(2,3)]\n",
    "\n",
    "x = [4, None, 'foo']\n",
    "x.extend([7,8,(2,3)])\n",
    "\n",
    "x \n",
    "\n",
    "# 排序\n",
    "a = [7,2,5,1,3]\n",
    "a.sort()\n",
    "a\n",
    "b = ['saw', 'small', 'He', 'foxes', 'six']\n",
    "\n",
    "b.sort(key=len)\n",
    "b\n",
    "\n",
    "# 二分搜索和维护已排序的列表\n",
    "import bisect\n",
    "\n",
    "c = [1, 2, 2, 2, 3, 4, 7]\n",
    "\n",
    "bisect.bisect(c,5)\n",
    "\n",
    "bisect.insort(c,8)\n",
    "\n",
    "c\n",
    "\n",
    "#切片 \n",
    "\n",
    "seq = [7,2,3,7,4,5,1,0]\n",
    "\n",
    "seq[1:5]\n",
    "\n",
    "seq[2:10]\n",
    "\n",
    "seq[1:5]=[6,3]\n",
    "\n",
    "seq\n",
    "\n",
    "seq[-4:]\n",
    "\n",
    "seq[-4:4]\n",
    "\n",
    "seq[::2]\n",
    "seq1 = [7,2,3,7,4,5,1,0]\n",
    "seq1[:2]\n",
    "seq1[::2]\n",
    "seq1[::-1]\n",
    "\n"
   ]
  },
  {
   "cell_type": "code",
   "execution_count": 166,
   "metadata": {},
   "outputs": [
    {
     "name": "stdout",
     "output_type": "stream",
     "text": [
      "0: foo,one\n",
      "1: bar,two\n",
      "2: baz,three\n"
     ]
    },
    {
     "data": {
      "text/plain": [
       "{'b': 'foo', 7: 'an integer', 'c': 12}"
      ]
     },
     "execution_count": 166,
     "metadata": {},
     "output_type": "execute_result"
    }
   ],
   "source": [
    "# 序列函数\n",
    "some_list = ['foo', 'bar', 'baz']\n",
    "i = 0\n",
    "for value in some_list:\n",
    "   # do something with value\n",
    "   i += 1\n",
    "\n",
    "mapping = {}\n",
    "\n",
    "for i, v in enumerate(some_list):\n",
    "    mapping[v] = i\n",
    "\n",
    "mapping\n",
    "\n",
    "# sorted 函数\n",
    "# sorted函数可以接受和sort相同的参数。\n",
    "sorted([7,1,2,6,0,3,2])\n",
    "sorted('horse race')\n",
    "\n",
    "# zip 函数\n",
    "\n",
    "# zip可以将多个列表、元组或其它序列成对组合成一个元组列表：\n",
    "\n",
    "seq1 = ['foo', 'bar', 'baz']\n",
    "seq2 = ['one', 'two', 'three']\n",
    "\n",
    "zipped = zip(seq1,seq2)\n",
    "\n",
    "list(zipped)\n",
    "\n",
    "# zip可以处理任意多的序列，元素的个数取决于最短的序列：\n",
    "\n",
    "seq3 = [False,True]\n",
    "\n",
    "list(zip(seq1, seq2, seq3))\n",
    "\n",
    "for i, (a, b) in enumerate(zip(seq1, seq2)):\n",
    "    print('{0}: {1},{2}'.format(i,a,b))\n",
    "    \n",
    "# zip 解压序列\n",
    "pitchers = [('Nolan', 'Ryan'), ('Roger', 'Clemens'),('Schilling', 'Curt')]\n",
    "\n",
    "pitchers\n",
    "\n",
    "first_names, last_names = zip(*pitchers)\n",
    "first_names\n",
    "last_names \n",
    "\n",
    "# reversed可以从后向前迭代一个序列：\n",
    "\n",
    "list(reversed(range(10)))\n",
    "\n",
    "# 字典\n",
    "\n",
    "empty_dict = {}\n",
    "\n",
    "d1 = {'a' : 'some value', 'b' : [1, 2, 3, 4]}\n",
    "d1\n",
    "\n",
    "d1[7] = 'an integer'\n",
    "\n",
    "d1['b']\n",
    "\n",
    "'b' in d1\n",
    "\n",
    "# 可以用 del 關鍵字 或 pop 方法 刪除值:\n",
    "\n",
    "d1[5] = 'some value'\n",
    "\n",
    "d1\n",
    "\n",
    "del d1[5]\n",
    "d1\n",
    "\n",
    "ret = d1.pop('a')\n",
    "\n",
    "ret\n",
    "\n",
    "list(d1.keys())\n",
    "# update方法是原地改变字典，因此任何传递给update的键的旧的值都会被舍弃。\n",
    "d1.update({'b':'foo','c':12})\n",
    "d1\n"
   ]
  },
  {
   "cell_type": "code",
   "execution_count": 190,
   "metadata": {},
   "outputs": [
    {
     "data": {
      "text/plain": [
       "defaultdict(list, {'a': ['apple', 'atom'], 'b': ['bat', 'bar', 'book']})"
      ]
     },
     "execution_count": 190,
     "metadata": {},
     "output_type": "execute_result"
    }
   ],
   "source": [
    "# 用序列創建字典\n",
    "\n",
    "# mapping = {}\n",
    "\n",
    "# for key, value in zip(key_list,value_list):\n",
    "#     mapping[key] = value\n",
    "mapping = dict(zip(range(5),reversed(range(5))))\n",
    "mapping\n",
    "\n",
    "\n",
    "words = ['apple', 'bat', 'bar', 'atom', 'book']\n",
    "\n",
    "by_letter = {}\n",
    "\n",
    "# for word in words:\n",
    "#     # print(word)\n",
    "#     letter = word[0]\n",
    "#     print(letter)\n",
    "#     if letter not in by_letter:\n",
    "#         by_letter[letter] = [word]\n",
    "#     else:\n",
    "#         by_letter[letter].append(word)\n",
    "        \n",
    "        \n",
    "# by_letter\n",
    "\n",
    "# setdefault方法就正是干这个的。前面的for循环可以改写为：\n",
    "\n",
    "for word in words:\n",
    "    letter = word[0]\n",
    "    by_letter.setdefault(letter,[]).append(word)\n",
    "by_letter\n",
    "\n",
    "# collections模块有一个很有用的类，defaultdict，它可以进一步简化上面。\n",
    "from collections import defaultdict\n",
    "\n",
    "by_letter = defaultdict(list)\n",
    "for word in words:\n",
    "    by_letter[word[0]].append(word)\n",
    "    \n",
    "by_letter"
   ]
  },
  {
   "cell_type": "code",
   "execution_count": 223,
   "metadata": {},
   "outputs": [
    {
     "data": {
      "text/plain": [
       "'Non-negative'"
      ]
     },
     "execution_count": 223,
     "metadata": {},
     "output_type": "execute_result"
    }
   ],
   "source": [
    "# 有效的鍵類型\n",
    "hash('string')\n",
    "\n",
    "hash((1,2,(2,3)))\n",
    "\n",
    "#hash((1, 2, [2, 3]))\n",
    "\n",
    "d = {}\n",
    "\n",
    "d[tuple([1,2,3])] = 5\n",
    "d\n",
    "\n",
    "# 集合\n",
    "\n",
    "# 集合是无序的不可重复的元素的集合。你可以把它当做字典，但是只有键没有值。可以用两种方式创建集合：通过set函数或使用尖括号set语句：\n",
    "\n",
    "set([1,2,3,4,5])\n",
    "{2, 2, 2, 1, 3, 3}\n",
    "\n",
    "a = {1, 2, 3, 4, 5}\n",
    "a\n",
    "b = {3, 4, 5, 6, 7, 8}\n",
    "b\n",
    "\n",
    "# a.union(b)\n",
    "\n",
    "a & b\n",
    "a | b\n",
    "\n",
    "# 將某個元素添加到集合\n",
    "a.add('c')\n",
    "a\n",
    "# 將集合清空\n",
    "# a.clear()\n",
    "# a\n",
    "c = a.copy()\n",
    "c\n",
    "\n",
    "# c |=b\n",
    "c &=b\n",
    "c\n",
    "x = 5\n",
    "'Non-negative' if x >= 0 else 'Negative'"
   ]
  },
  {
   "cell_type": "markdown",
   "metadata": {},
   "source": []
  }
 ],
 "metadata": {
  "kernelspec": {
   "display_name": "Python 3",
   "language": "python",
   "name": "python3"
  },
  "language_info": {
   "codemirror_mode": {
    "name": "ipython",
    "version": 3
   },
   "file_extension": ".py",
   "mimetype": "text/x-python",
   "name": "python",
   "nbconvert_exporter": "python",
   "pygments_lexer": "ipython3",
   "version": "3.7.0"
  }
 },
 "nbformat": 4,
 "nbformat_minor": 2
}
