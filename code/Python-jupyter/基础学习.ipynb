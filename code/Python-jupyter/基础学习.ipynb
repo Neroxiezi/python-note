{
 "cells": [
  {
   "cell_type": "markdown",
   "metadata": {},
   "source": [
    "### Python 基础语法"
   ]
  },
  {
   "cell_type": "code",
   "execution_count": 9,
   "metadata": {},
   "outputs": [
    {
     "name": "stdout",
     "output_type": "stream",
     "text": [
      "================Python import mode==========================\n",
      "命令行参数为:\n",
      "d:\\python\\lib\\site-packages\\ipykernel_launcher.py\n",
      "-f\n",
      "C:\\Users\\运营部\\AppData\\Roaming\\jupyter\\runtime\\kernel-5aa412e7-db82-4dcc-a516-a1b3c8c18f07.json\n",
      "\n",
      " python 路径为 ['', 'D:\\\\phpStudy\\\\WWW\\\\python-note\\\\code\\\\Python-jupyter', 'd:\\\\python\\\\python37.zip', 'd:\\\\python\\\\DLLs', 'd:\\\\python\\\\lib', 'd:\\\\python', 'd:\\\\python\\\\lib\\\\site-packages', 'd:\\\\python\\\\lib\\\\site-packages\\\\win32', 'd:\\\\python\\\\lib\\\\site-packages\\\\win32\\\\lib', 'd:\\\\python\\\\lib\\\\site-packages\\\\Pythonwin', 'd:\\\\python\\\\lib\\\\site-packages\\\\IPython\\\\extensions', 'C:\\\\Users\\\\运营部\\\\.ipython']\n",
      "\n",
      "================python from import===================================\n",
      "\n",
      "path: ['', 'D:\\\\phpStudy\\\\WWW\\\\python-note\\\\code\\\\Python-jupyter', 'd:\\\\python\\\\python37.zip', 'd:\\\\python\\\\DLLs', 'd:\\\\python\\\\lib', 'd:\\\\python', 'd:\\\\python\\\\lib\\\\site-packages', 'd:\\\\python\\\\lib\\\\site-packages\\\\win32', 'd:\\\\python\\\\lib\\\\site-packages\\\\win32\\\\lib', 'd:\\\\python\\\\lib\\\\site-packages\\\\Pythonwin', 'd:\\\\python\\\\lib\\\\site-packages\\\\IPython\\\\extensions', 'C:\\\\Users\\\\运营部\\\\.ipython']\n"
     ]
    }
   ],
   "source": [
    "# python 保留字\n",
    "# 保留字即关键字，我们不能把它们用作任何标识符名称。Python 的标准库提供了一个 keyword 模块，可以输出当前版本的所有关键字：\n",
    "import keyword\n",
    "keyword.kwlist\n",
    "\n",
    "# import 与 from...import\n",
    "# 在 python 用 import 或者 from...import 来导入相应的模块。\n",
    "# 将整个模块(somemodule)导入，格式为： import somemodule\n",
    "# 从某个模块中导入某个函数,格式为： from somemodule import somefunction\n",
    "# 从某个模块中导入多个函数,格式为： from somemodule import firstfunc, secondfunc, thirdfunc\n",
    "# 将某个模块中的全部函数导入，格式为： from somemodule import *\n",
    "import sys\n",
    "print('================Python import mode==========================');\n",
    "print ('命令行参数为:')\n",
    "for i in sys.argv:\n",
    "    print (i)\n",
    "print ('\\n python 路径为',sys.path)\n",
    "\n",
    "from sys import argv,path  #  导入特定的成员\n",
    "print('\\n================python from import===================================\\n')\n",
    "print('path:',path) # 因为已经导入path成员，所以此处引用时不需要加sys.path"
   ]
  },
  {
   "cell_type": "code",
   "execution_count": 11,
   "metadata": {},
   "outputs": [
    {
     "name": "stdout",
     "output_type": "stream",
     "text": [
      "100 1000.0 runoob\n",
      "1 1 1\n"
     ]
    }
   ],
   "source": [
    "# 基本数据类型\n",
    "counter = 100          # 整型变量\n",
    "miles   = 1000.0       # 浮点型变量\n",
    "name    = \"runoob\"     # 字符串\n",
    "print(counter,miles,name)\n",
    "# 多个变量赋值\n",
    "a =b =c = 1\n",
    "print(a,b,c)\n",
    "\n",
    "# Python3 中有六个标准的数据类型：\n",
    "\n",
    "# Number（数字）\n",
    "# String（字符串）\n",
    "# List（列表）\n",
    "# Tuple（元组）\n",
    "# Set（集合）\n",
    "# Dictionary（字典）\n",
    "\n"
   ]
  },
  {
   "cell_type": "code",
   "execution_count": 36,
   "metadata": {},
   "outputs": [
    {
     "name": "stdout",
     "output_type": "stream",
     "text": [
      "<class 'int'> <class 'float'> <class 'bool'> <class 'complex'>\n",
      "10\n",
      "Runoob\n",
      "Runoo\n",
      "R\n",
      "noo\n",
      "RunoobRunoob\n",
      "RunoobTest\n",
      "['abcd', 786, 2.23, 'runoob', 70.2]\n",
      "abcd\n",
      "[786, 2.23]\n",
      "[2.23, 'runoob', 70.2]\n",
      "[123, 'runoob', 123, 'runoob']\n"
     ]
    }
   ],
   "source": [
    "# Number（数字）\n",
    "a, b, c, d = 20, 5.5, True, 4+3j\n",
    "print(type(a), type(b), type(c), type(d))\n",
    "# isinstance(a,int)\n",
    "isinstance(d,int)\n",
    "\n",
    "class A:\n",
    "    pass\n",
    "\n",
    "class B(A):\n",
    "    pass\n",
    "\n",
    "isinstance(A(),A)  # isinstance()会认为子类是一种父类类型。\n",
    "type(A()) == A \n",
    "isinstance(B(),A)\n",
    "\n",
    "var1 = 1\n",
    "var2 = 10\n",
    "\n",
    "del var1\n",
    "print(var2)\n",
    "# String（字符串）\n",
    "\n",
    "str = 'Runoob'\n",
    "\n",
    "print(str)\n",
    "print(str[0:-1])    # 输出第一个到倒数第二个的所有字符\n",
    "print(str[0]) # 输出第一个字符\n",
    "print(str[2:5]) # 输出从第三个开始到第五个的字符\n",
    "print(str * 2) # 输出字符串两次\n",
    "print(str + 'Test')#连接字符串\n",
    "\n",
    "# List（列表）\n",
    "# List 是Python 中使用是最频繁的数据类型 \n",
    "\n",
    "# 列表可以完成大多数集合类的数据结构实现。列表中元素的类型可以不相同，它支持数字，字符串甚至可以包含列表（所谓嵌套）。\n",
    "# 列表是写在方括号 [] 之间、用逗号分隔开的元素列表。\n",
    "# 和字符串一样，列表同样可以被索引和截取，列表被截取后返回一个包含所需元素的新列表。\n",
    "list = [ 'abcd', 786 , 2.23, 'runoob', 70.2 ]\n",
    "tinylist = [123, 'runoob']\n",
    "print (list)            # 输出完整列表\n",
    "print (list[0])         # 输出列表第一个元素\n",
    "print (list[1:3])       # 从第二个开始输出到第三个元素\n",
    "print (list[2:])        # 输出从第三个元素开始的所有元素\n",
    "print (tinylist * 2)    # 输出两次列表"
   ]
  },
  {
   "cell_type": "code",
   "execution_count": 52,
   "metadata": {},
   "outputs": [
    {
     "name": "stdout",
     "output_type": "stream",
     "text": [
      "('abcd', 786, 2.23, 'runoob', 70.2)\n",
      "abcd\n",
      "(786, 2.23)\n",
      "(2.23, 'runoob', 70.2)\n",
      "(123, 'runoob', 123, 'runoob')\n",
      "('abcd', 786, 2.23, 'runoob', 70.2, 123, 'runoob')\n",
      "{'Rose', 'Tom', 'Jack', 'Mary', 'Jim'}\n",
      "Rose 在集合中\n",
      "{'b', 'c', 'r', 'd', 'a'}\n",
      "{'r', 'd', 'b'}\n",
      "{'l', 'b', 'c', 'z', 'm', 'r', 'd', 'a'}\n",
      "{'c', 'a'}\n",
      "{'m', 'l', 'b', 'r', 'd', 'z'}\n",
      "{'one': '1 - 菜鸟教程', 2: '2 - 菜鸟工具'}\n",
      "1 - 菜鸟教程\n",
      "1 - 菜鸟教程\n",
      "2 - 菜鸟工具\n",
      "{'name': 'runoob', 'code': 1, 'site': 'www.runoob.com'}\n",
      "dict_keys(['name', 'code', 'site'])\n",
      "dict_values(['runoob', 1, 'www.runoob.com'])\n"
     ]
    }
   ],
   "source": [
    "#Tuple（元组）\n",
    "tuple = ( 'abcd', 786 , 2.23, 'runoob', 70.2  )\n",
    "tinytuple = (123, 'runoob')\n",
    " \n",
    "print (tuple)             # 输出完整元组\n",
    "print (tuple[0])          # 输出元组的第一个元素\n",
    "print (tuple[1:3])        # 输出从第二个元素开始到第三个元素\n",
    "print (tuple[2:])         # 输出从第三个元素开始的所有元素\n",
    "print (tinytuple * 2)     # 输出两次元组\n",
    "print (tuple + tinytuple) # 连接元组\n",
    "\n",
    "# Set（集合）\n",
    "# 集合（set）是一个无序不重复元素的序列。\n",
    "# 基本功能是进行成员关系测试和删除重复元素。\n",
    "# 可以使用大括号 { } 或者 set() 函数创建集合，注意：创建一个空集合必须用 set() 而不是 { }，因为 { } 是用来创建一个空字典。\n",
    "\n",
    "student = {'Tom', 'Jim', 'Mary', 'Tom', 'Jack', 'Rose'}\n",
    " \n",
    "print(student)   # 输出集合，重复的元素被自动去掉\n",
    "if 'Rose' in student :\n",
    "    print('Rose 在集合中')\n",
    "else :\n",
    "    print('Rose 不在集合中')\n",
    "\n",
    "# set可以进行集合运算\n",
    "a = set('abracadabra')\n",
    "b = set('alacazam')\n",
    "print(a)\n",
    "print(a - b)     # a和b的差集\n",
    "print(a | b)     # a和b的并集\n",
    "print(a & b)     # a和b的交集\n",
    "print(a ^ b)     # a和b中不同时存在的元素\n",
    "\n",
    "#Dictionary 字典\n",
    "\n",
    "dict = {}\n",
    "dict['one'] = \"1 - 菜鸟教程\"\n",
    "dict[2]     = \"2 - 菜鸟工具\"\n",
    "print(dict)\n",
    "tinydict = {'name': 'runoob','code':1, 'site': 'www.runoob.com'}\n",
    "print (dict['one'])       # 输出键为 'one' 的值\n",
    "print (dict['one'])       # 输出键为 'one' 的值\n",
    "print (dict[2])           # 输出键为 2 的值\n",
    "print (tinydict)          # 输出完整的字典\n",
    "print (tinydict.keys())   # 输出所有键\n",
    "print (tinydict.values()) # 输出所有值\n",
    "# {x: x**2 for x in (2, 4, 6)}"
   ]
  },
  {
   "cell_type": "code",
   "execution_count": null,
   "metadata": {},
   "outputs": [],
   "source": [
    "# Python数据类型转换\n",
    "print(int(3.6))\n",
    "print(complex(1,2))\n",
    "print(complex(1))    # 数字\n",
    "\n",
    "# 迭代器与生成器\n",
    "\n",
    "list=[1,2,3,4]\n",
    "it = iter(list)    # 创建迭代器对象\n",
    "print(it)\n",
    "# print (next(it))   # 输出迭代器的下一个元素\n",
    "# print (next(it))   # 输出迭代器的下一个元素\n",
    "# print (next(it))   # 输出迭代器的下一个元素\n",
    "# print (next(it))   # 输出迭代器的下一个元素\n",
    "# for x in it:\n",
    "#     print (x, end=\" \")\n",
    "\n",
    "import sys\n",
    "# while True:\n",
    "#     try:\n",
    "#         print (next(it))\n",
    "#     except StopIteration as e:\n",
    "#         sys.exit()\n"
   ]
  },
  {
   "cell_type": "code",
   "execution_count": null,
   "metadata": {},
   "outputs": [],
   "source": []
  },
  {
   "cell_type": "code",
   "execution_count": null,
   "metadata": {},
   "outputs": [],
   "source": []
  }
 ],
 "metadata": {
  "kernelspec": {
   "display_name": "Python 3",
   "language": "python",
   "name": "python3"
  },
  "language_info": {
   "codemirror_mode": {
    "name": "ipython",
    "version": 3
   },
   "file_extension": ".py",
   "mimetype": "text/x-python",
   "name": "python",
   "nbconvert_exporter": "python",
   "pygments_lexer": "ipython3",
   "version": "3.7.0"
  }
 },
 "nbformat": 4,
 "nbformat_minor": 2
}
