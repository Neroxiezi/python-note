{
 "cells": [
  {
   "cell_type": "code",
   "execution_count": 1,
   "metadata": {},
   "outputs": [
    {
     "data": {
      "text/plain": [
       "3"
      ]
     },
     "execution_count": 1,
     "metadata": {},
     "output_type": "execute_result"
    }
   ],
   "source": [
    "def add(x, y, f):\n",
    "    return f(x) + f(y)\n",
    "\n",
    "add(1,2,abs)"
   ]
  },
  {
   "cell_type": "code",
   "execution_count": 16,
   "metadata": {},
   "outputs": [
    {
     "name": "stdout",
     "output_type": "stream",
     "text": [
      "<map object at 0x0400C5D0>\n"
     ]
    }
   ],
   "source": [
    "def f(x):\n",
    "    return x*x\n",
    "\n",
    "print(map(f, [1, 2, 3, 4, 5, 6, 7, 8, 9]))"
   ]
  },
  {
   "cell_type": "code",
   "execution_count": 19,
   "metadata": {
    "scrolled": true
   },
   "outputs": [
    {
     "name": "stdout",
     "output_type": "stream",
     "text": [
      "hello\n",
      "worda\n"
     ]
    }
   ],
   "source": [
    "# python 的闭包操作 与作用域\n",
    "def print_msg(msg):\n",
    "    def printer():\n",
    "        print(msg)\n",
    "    printer()    \n",
    "print_msg('hello')        \n",
    "# 在这个例子中函数printer就是一个nested function，而变量msg就是一个nonlocal variable。这里需要注意的是，printer虽然可以访问msg，但是不可以改变它，如果尝试更改会出现UnboundLocalError: local variable 'msg' referenced before assignment。\n",
    "def print_msg_2(msg):\n",
    "    def printer():\n",
    "        nonlocal msg\n",
    "        msg += 'a'\n",
    "        print(msg)\n",
    "    printer()\n",
    "\n",
    "\n",
    "print_msg_2('word')    "
   ]
  },
  {
   "cell_type": "code",
   "execution_count": 21,
   "metadata": {},
   "outputs": [
    {
     "name": "stdout",
     "output_type": "stream",
     "text": [
      "Hello\n"
     ]
    }
   ],
   "source": [
    "# 使外层函数(outer enclosing function)返回一个函数\n",
    "\n",
    "def print_msg(msg):\n",
    "    def printer():\n",
    "        print(msg)\n",
    "    return printer\n",
    "        \n",
    "another = print_msg(\"Hello\")\n",
    "another()"
   ]
  },
  {
   "cell_type": "code",
   "execution_count": 25,
   "metadata": {},
   "outputs": [
    {
     "name": "stdout",
     "output_type": "stream",
     "text": [
      "dog sings 汪汪\n",
      "cow sings 喵喵\n",
      "dog sing 汪汪\n"
     ]
    }
   ],
   "source": [
    "# 闭包的应用\n",
    "class  Animal:\n",
    "    def __init__(self,animal):\n",
    "        self.animal = animal\n",
    "    \n",
    "    def sing(self,voice):\n",
    "        return \"{} sings {}\".format(self.animal,voice)\n",
    "    \n",
    "dog = Animal(\"dog\")\n",
    "cow = Animal(\"cow\")\n",
    "print(dog.sing('汪汪'))\n",
    "print(cow.sing('喵喵'))\n",
    "    \n",
    "\n",
    "# 用闭包替代上面的类\n",
    "\n",
    "def make_sing(animal):\n",
    "    def make_voice(voice):\n",
    "        return '{} sing {}'.format(animal,voice)\n",
    "    return make_voice\n",
    "\n",
    "\n",
    "dog2 = make_sing('dog')\n",
    "print(dog2('汪汪'))\n",
    "\n",
    "    \n"
   ]
  },
  {
   "cell_type": "code",
   "execution_count": 29,
   "metadata": {},
   "outputs": [
    {
     "name": "stdout",
     "output_type": "stream",
     "text": [
      "before function\n",
      "hello\n",
      "after function\n",
      "another begin\n",
      "before function\n",
      "word\n",
      "after function\n",
      "another end\n"
     ]
    }
   ],
   "source": [
    "# 闭包通常用来实现一个通用的功能，Python中的装饰器就是对闭包的一种应用，只不过装饰器中父函数的参数是一个函数,下面这个例子通过装饰器实现了在子函数执行前后输出提示信息。\n",
    "\n",
    "def make_wrap(func):\n",
    "    def wrapper(*args):\n",
    "        print(\"before function\")\n",
    "        func(*args)\n",
    "        print(\"after function\")\n",
    "    return wrapper\n",
    "@make_wrap\n",
    "def print_msg(msg):\n",
    "    print(msg)\n",
    "\n",
    "print_msg(\"hello\")\n",
    "\n",
    "# 装饰器也可以进行叠加\n",
    "\n",
    "def make_another(func):\n",
    "    def wrapper(*args):\n",
    "        print(\"another begin\")\n",
    "        func(*args)\n",
    "        print(\"another end\")\n",
    "    return wrapper\n",
    "\n",
    "@make_another\n",
    "@make_wrap\n",
    "def print_msg(msg):\n",
    "    print(msg)\n",
    "    \n",
    "print_msg('word')\n",
    "        \n"
   ]
  }
 ],
 "metadata": {
  "kernelspec": {
   "display_name": "Python 3",
   "language": "python",
   "name": "python3"
  },
  "language_info": {
   "codemirror_mode": {
    "name": "ipython",
    "version": 3
   },
   "file_extension": ".py",
   "mimetype": "text/x-python",
   "name": "python",
   "nbconvert_exporter": "python",
   "pygments_lexer": "ipython3",
   "version": "3.7.0"
  }
 },
 "nbformat": 4,
 "nbformat_minor": 2
}
