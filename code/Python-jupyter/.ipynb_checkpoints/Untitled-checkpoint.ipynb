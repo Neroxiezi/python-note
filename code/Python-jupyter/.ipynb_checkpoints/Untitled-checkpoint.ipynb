{
 "cells": [
  {
   "cell_type": "code",
   "execution_count": 21,
   "metadata": {},
   "outputs": [
    {
     "name": "stdout",
     "output_type": "stream",
     "text": [
      "a=1,b=2,c=3\n",
      "a=4,b=5,c=6\n",
      "a=6,b=7,c=8\n"
     ]
    },
    {
     "data": {
      "text/plain": [
       "4"
      ]
     },
     "execution_count": 21,
     "metadata": {},
     "output_type": "execute_result"
    }
   ],
   "source": [
    "# 元祖\n",
    "tup = 4,5,6\n",
    "tup\n",
    "\n",
    "nested_tup = (4,5,6),(7,8)\n",
    "nested_tup\n",
    "\n",
    "#用tuple可以将任意序列或迭代器转换成元组：\n",
    "tuple([4,0,2])\n",
    "\n",
    "tup_1 = tuple('string')\n",
    "tup_1\n",
    "tup_1[0]\n",
    "#可以用加号运算符将元组串联起来：\n",
    "(4,None,'foo') + (6,0)+('bar',)\n",
    "\n",
    "a,b = 1,2\n",
    "a\n",
    "b\n",
    "b,a = a,b\n",
    "a\n",
    "b\n",
    "\n",
    "# 变量拆分常用来迭代元组或列表序列：\n",
    "\n",
    "seq = [(1,2,3),(4,5,6),(6,7,8)]\n",
    "\n",
    "for a,b,c in seq:\n",
    "    print('a={0},b={1},c={2}'.format(a,b,c))\n",
    "\n",
    "values = 1,2,3,4,5\n",
    "# rest的部分是想要舍弃的部分，rest的名字不重要。\n",
    "a,b, *rest = values\n",
    "a,b\n",
    "rest\n",
    "\n",
    "a,b,*_ = values\n",
    "\n",
    "a,b\n",
    "_\n",
    "\n",
    "# tuple方法\n",
    "a = (1,2,2,2,3,4,2)\n",
    "\n",
    "a.count(2)\n"
   ]
  },
  {
   "cell_type": "code",
   "execution_count": 49,
   "metadata": {},
   "outputs": [
    {
     "data": {
      "text/plain": [
       "True"
      ]
     },
     "execution_count": 49,
     "metadata": {},
     "output_type": "execute_result"
    }
   ],
   "source": [
    "# 列表\n",
    "a_list = [1,3,7,None]\n",
    "tup = ('foo', 'bar', 'baz')\n",
    "\n",
    "b_list = list(tup)\n",
    "b_list\n",
    "\n",
    "b_list[1] = 'peekabo'\n",
    "b_list\n",
    "\n",
    "# list函数常用来在数据处理中实体化迭代器或生成器\n",
    "\n",
    "gen = range(10)\n",
    "gen\n",
    "list(gen)\n",
    "\n",
    "# 添加和删除元素\n",
    "\n",
    "b_list.append('dwarf')\n",
    "b_list\n",
    "\n",
    "b_list.insert(1,'red')\n",
    "b_list\n",
    "b_list.pop(2)\n",
    "b_list.append('fool')\n",
    "b_list\n",
    "b_list.remove('foo')\n",
    "\n",
    "b_list\n",
    "\n",
    "'foo' not in b_list\n"
   ]
  },
  {
   "cell_type": "code",
   "execution_count": 85,
   "metadata": {},
   "outputs": [
    {
     "data": {
      "text/plain": [
       "[4, None, 'foo', 7, 8, (2, 3)]"
      ]
     },
     "execution_count": 85,
     "metadata": {},
     "output_type": "execute_result"
    }
   ],
   "source": [
    "# 串联和组合列表\n",
    "[3, None, 'foo'] + [7,8,(2,3)]\n",
    "\n",
    "x = [4, None, 'foo']\n",
    "x.extend([7,8,(2,3)])\n",
    "\n",
    "x \n",
    "\n",
    "# 排序\n",
    "\n",
    "\n"
   ]
  }
 ],
 "metadata": {
  "kernelspec": {
   "display_name": "Python 3",
   "language": "python",
   "name": "python3"
  },
  "language_info": {
   "codemirror_mode": {
    "name": "ipython",
    "version": 3
   },
   "file_extension": ".py",
   "mimetype": "text/x-python",
   "name": "python",
   "nbconvert_exporter": "python",
   "pygments_lexer": "ipython3",
   "version": "3.7.0"
  }
 },
 "nbformat": 4,
 "nbformat_minor": 2
}
