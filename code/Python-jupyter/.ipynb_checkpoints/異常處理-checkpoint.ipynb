{
 "cells": [
  {
   "cell_type": "code",
   "execution_count": 4,
   "metadata": {},
   "outputs": [],
   "source": [
    "# Python 異常處理\n",
    "\n",
    "# AttributeError 试图访问一个对象没有的属性，比如foo.x，但是foo没有属性x\n",
    "\n",
    "# IOError 输入/输出异常；基本上是无法打开文件\n",
    "\n",
    "# ImportError 无法引入模块或包；基本上是路径问题或名称错误\n",
    "\n",
    "# IndentationError 语法错误（的子类） ；代码没有正确对齐\n",
    "\n",
    "# IndexError 下标索引超出序列边界，比如当x只有三个元素，却试图访问x[5]\n",
    "\n",
    "# KeyError 试图访问字典里不存在的键\n",
    "\n",
    "# KeyboardInterrupt Ctrl+C被按下\n",
    "\n",
    "# NameError 尝试访问一个没有申明的变量\n",
    "\n",
    "# SyntaxError Python代码非法，代码不能编译(个人认为这是语法错误，写错了）\n",
    "\n",
    "# TypeError 传入对象类型与要求的不符合\n",
    "\n",
    "# UnboundLocalError 试图访问一个还未被设置的局部变量，基本上是由于另有一个同名的全局变量，导致你以为正在访问它\n",
    "\n",
    "# ValueError 传入一个调用者不期望的值，即使值的类型是正确的\n",
    "                              \n",
    "# 补充：\n",
    "                              \n",
    "# 异常名称    描述\n",
    "# BaseException    所有异常的基类\n",
    "# SystemExit    解释器请求退出\n",
    "# KeyboardInterrupt    用户中断执行(通常是输入^C)\n",
    "# Exception    常规错误的基类\n",
    "# StopIteration    迭代器没有更多的值\n",
    "# GeneratorExit    生成器(generator)发生异常来通知退出\n",
    "# StandardError    所有的内建标准异常的基类\n",
    "# ArithmeticError    所有数值计算错误的基类\n",
    "# FloatingPointError    浮点计算错误\n",
    "# OverflowError    数值运算超出最大限制\n",
    "# ZeroDivisionError    除(或取模)零 (所有数据类型)\n",
    "# AssertionError    断言语句失败\n",
    "# AttributeError    对象没有这个属性\n",
    "# EOFError    没有内建输入,到达EOF 标记\n",
    "# EnvironmentError    操作系统错误的基类\n",
    "# IOError    输入/输出操作失败\n",
    "# OSError    操作系统错误\n",
    "# WindowsError    系统调用失败\n",
    "# ImportError    导入模块/对象失败\n",
    "# LookupError    无效数据查询的基类\n",
    "# IndexError    序列中没有此索引(index)\n",
    "# KeyError    映射中没有这个键\n",
    "# MemoryError    内存溢出错误(对于Python 解释器不是致命的)\n",
    "# NameError    未声明/初始化对象 (没有属性)\n",
    "# UnboundLocalError    访问未初始化的本地变量\n",
    "# ReferenceError    弱引用(Weak reference)试图访问已经垃圾回收了的对象\n",
    "# RuntimeError    一般的运行时错误\n",
    "# NotImplementedError    尚未实现的方法\n",
    "# SyntaxError    Python 语法错误\n",
    "# IndentationError    缩进错误\n",
    "# TabError    Tab 和空格混用\n",
    "# SystemError    一般的解释器系统错误\n",
    "# TypeError    对类型无效的操作\n",
    "# ValueError    传入无效的参数\n",
    "# UnicodeError    Unicode 相关的错误\n",
    "# UnicodeDecodeError    Unicode 解码时的错误\n",
    "# UnicodeEncodeError    Unicode 编码时错误\n",
    "# UnicodeTranslateError    Unicode 转换时错误\n",
    "# Warning    警告的基类\n",
    "# DeprecationWarning    关于被弃用的特征的警告\n",
    "# FutureWarning    关于构造将来语义会有改变的警告\n",
    "# OverflowWarning    旧的关于自动提升为长整型(long)的警告\n",
    "# PendingDeprecationWarning    关于特性将会被废弃的警告\n",
    "# RuntimeWarning    可疑的运行时行为(runtime behavior)的警告\n",
    "# SyntaxWarning    可疑的语法的警告\n",
    "# UserWarning    用户代码生成的警告"
   ]
  },
  {
   "cell_type": "code",
   "execution_count": 17,
   "metadata": {},
   "outputs": [
    {
     "name": "stdout",
     "output_type": "stream",
     "text": [
      "32.0\n",
      "451\n"
     ]
    },
    {
     "ename": "AssertionError",
     "evalue": "Colder than absolute zero!",
     "output_type": "error",
     "traceback": [
      "\u001b[1;31m---------------------------------------------------------------------------\u001b[0m",
      "\u001b[1;31mAssertionError\u001b[0m                            Traceback (most recent call last)",
      "\u001b[1;32m<ipython-input-17-8be877803287>\u001b[0m in \u001b[0;36m<module>\u001b[1;34m()\u001b[0m\n\u001b[0;32m      7\u001b[0m \u001b[0mprint\u001b[0m \u001b[1;33m(\u001b[0m\u001b[0mKelvinToFahrenheit\u001b[0m\u001b[1;33m(\u001b[0m\u001b[1;36m273\u001b[0m\u001b[1;33m)\u001b[0m\u001b[1;33m)\u001b[0m\u001b[1;33m\u001b[0m\u001b[0m\n\u001b[0;32m      8\u001b[0m \u001b[0mprint\u001b[0m \u001b[1;33m(\u001b[0m\u001b[0mint\u001b[0m\u001b[1;33m(\u001b[0m\u001b[0mKelvinToFahrenheit\u001b[0m\u001b[1;33m(\u001b[0m\u001b[1;36m505.78\u001b[0m\u001b[1;33m)\u001b[0m\u001b[1;33m)\u001b[0m\u001b[1;33m)\u001b[0m\u001b[1;33m\u001b[0m\u001b[0m\n\u001b[1;32m----> 9\u001b[1;33m \u001b[0mprint\u001b[0m \u001b[1;33m(\u001b[0m\u001b[0mKelvinToFahrenheit\u001b[0m\u001b[1;33m(\u001b[0m\u001b[1;33m-\u001b[0m\u001b[1;36m5\u001b[0m\u001b[1;33m)\u001b[0m\u001b[1;33m)\u001b[0m\u001b[1;33m\u001b[0m\u001b[0m\n\u001b[0m",
      "\u001b[1;32m<ipython-input-17-8be877803287>\u001b[0m in \u001b[0;36mKelvinToFahrenheit\u001b[1;34m(Temperature)\u001b[0m\n\u001b[0;32m      3\u001b[0m \u001b[1;31m# 这里是一个把从开氏度到华氏度的温度转换函数。\u001b[0m\u001b[1;33m\u001b[0m\u001b[1;33m\u001b[0m\u001b[0m\n\u001b[0;32m      4\u001b[0m \u001b[1;32mdef\u001b[0m \u001b[0mKelvinToFahrenheit\u001b[0m\u001b[1;33m(\u001b[0m\u001b[0mTemperature\u001b[0m\u001b[1;33m)\u001b[0m\u001b[1;33m:\u001b[0m\u001b[1;33m\u001b[0m\u001b[0m\n\u001b[1;32m----> 5\u001b[1;33m     \u001b[1;32massert\u001b[0m \u001b[1;33m(\u001b[0m\u001b[0mTemperature\u001b[0m \u001b[1;33m>=\u001b[0m \u001b[1;36m0\u001b[0m\u001b[1;33m)\u001b[0m\u001b[1;33m,\u001b[0m\u001b[1;34m\"Colder than absolute zero!\"\u001b[0m\u001b[1;33m\u001b[0m\u001b[0m\n\u001b[0m\u001b[0;32m      6\u001b[0m     \u001b[1;32mreturn\u001b[0m \u001b[1;33m(\u001b[0m\u001b[1;33m(\u001b[0m\u001b[0mTemperature\u001b[0m\u001b[1;33m-\u001b[0m\u001b[1;36m273\u001b[0m\u001b[1;33m)\u001b[0m\u001b[1;33m*\u001b[0m\u001b[1;36m1.8\u001b[0m\u001b[1;33m)\u001b[0m\u001b[1;33m+\u001b[0m\u001b[1;36m32\u001b[0m\u001b[1;33m\u001b[0m\u001b[0m\n\u001b[0;32m      7\u001b[0m \u001b[0mprint\u001b[0m \u001b[1;33m(\u001b[0m\u001b[0mKelvinToFahrenheit\u001b[0m\u001b[1;33m(\u001b[0m\u001b[1;36m273\u001b[0m\u001b[1;33m)\u001b[0m\u001b[1;33m)\u001b[0m\u001b[1;33m\u001b[0m\u001b[0m\n",
      "\u001b[1;31mAssertionError\u001b[0m: Colder than absolute zero!"
     ]
    }
   ],
   "source": [
    "# for i in range(10)\n",
    "# 1/0\n",
    "# 这里是一个把从开氏度到华氏度的温度转换函数。\n",
    "def KelvinToFahrenheit(Temperature):\n",
    "    assert (Temperature >= 0),\"Colder than absolute zero!\"\n",
    "    return ((Temperature-273)*1.8)+32\n",
    "print (KelvinToFahrenheit(273))\n",
    "print (int(KelvinToFahrenheit(505.78)))\n",
    "print (KelvinToFahrenheit(-5))"
   ]
  },
  {
   "cell_type": "code",
   "execution_count": 21,
   "metadata": {},
   "outputs": [
    {
     "name": "stdout",
     "output_type": "stream",
     "text": [
      "Written conten in the file successfully\n",
      "Error: can't find file or read data\n"
     ]
    }
   ],
   "source": [
    "try:\n",
    "    fh = open('testfile','w')\n",
    "    fh.write(\"This is my test\")\n",
    "except IOError:\n",
    "    print(\"Error: can\\'t find or read data\")\n",
    "else:\n",
    "    print(\"Written conten in the file successfully\")\n",
    "    fh.close()\n",
    "\n",
    "try:\n",
    "   fh = open(\"testfile\", \"r\")\n",
    "   fh.write(\"This is my test file for exception handling!!\")\n",
    "except IOError:\n",
    "   print (\"Error: can\\'t find file or read data\")\n",
    "else:\n",
    "   print (\"Written content in the file successfully\")"
   ]
  },
  {
   "cell_type": "code",
   "execution_count": 27,
   "metadata": {},
   "outputs": [
    {
     "name": "stdout",
     "output_type": "stream",
     "text": [
      "error in level argument -10\n"
     ]
    }
   ],
   "source": [
    "# 可以通过使用 raise 语句触发几个方面的异常。对于 raise 语句的一般语法如下。\n",
    "def functionName( level ):\n",
    "    if level <1:\n",
    "        raise Exception (level)\n",
    "    return level\n",
    "\n",
    "try:\n",
    "    l=functionName(-10)\n",
    "    print (\"level=\",l)\n",
    "except Exception  as e:\n",
    "    print (\"error in level argument\",e.args[0])"
   ]
  },
  {
   "cell_type": "code",
   "execution_count": 32,
   "metadata": {},
   "outputs": [
    {
     "name": "stdout",
     "output_type": "stream",
     "text": [
      "('B', 'a', 'd', ' ', 'h', 'o', 's', 't', 'n', 'a', 'm', 'e')\n"
     ]
    }
   ],
   "source": [
    "# 自定義異常\n",
    "class Networkerror(RuntimeError):\n",
    "    def __init__(self, arg):\n",
    "        self.args = arg\n",
    "\n",
    "try:\n",
    "     raise Networkerror(\"Bad hostname\")\n",
    "except Networkerror as e:\n",
    "    print(e.args)"
   ]
  }
 ],
 "metadata": {
  "kernelspec": {
   "display_name": "Python 3",
   "language": "python",
   "name": "python3"
  },
  "language_info": {
   "codemirror_mode": {
    "name": "ipython",
    "version": 3
   },
   "file_extension": ".py",
   "mimetype": "text/x-python",
   "name": "python",
   "nbconvert_exporter": "python",
   "pygments_lexer": "ipython3",
   "version": "3.7.0"
  }
 },
 "nbformat": 4,
 "nbformat_minor": 2
}
