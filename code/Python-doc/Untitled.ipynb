{
 "cells": [
  {
   "cell_type": "code",
   "execution_count": 4,
   "metadata": {},
   "outputs": [
    {
     "name": "stdout",
     "output_type": "stream",
     "text": [
      "--------------------闭包--------------------\n",
      "--------------------闭包--------------------\n",
      "--------------------闭包--------------------\n",
      "--------------------闭包--------------------\n",
      "--------------------闭包--------------------\n",
      "--------------------闭包--------------------\n"
     ]
    }
   ],
   "source": [
    "# 闭包的应用场景\n",
    "\n",
    "def line_config(content,length):\n",
    "    print(\"-\"*(length // 2) + content + \"-\"*(length // 2))\n",
    "\n",
    "line_config(\"闭包\",40)\n",
    "\n",
    "def line2_config(content,length):\n",
    "    def line():\n",
    "        print(\"-\"*(length // 2) + content + \"-\"*(length // 2))\n",
    "    return line\n",
    "\n",
    "line1 = line2_config(\"闭包\",40);\n",
    "line1()\n",
    "line1()\n",
    "line1()\n",
    "line1()\n",
    "line1()\n"
   ]
  },
  {
   "cell_type": "code",
   "execution_count": 19,
   "metadata": {},
   "outputs": [
    {
     "name": "stdout",
     "output_type": "stream",
     "text": [
      "10\n",
      "666\n",
      "666\n",
      "666\n"
     ]
    }
   ],
   "source": [
    "# 变量作用域\n",
    "def test():\n",
    "    num = 10 \n",
    "    def test1():\n",
    "        nonlocal num # 申明 非局部\n",
    "        num = 666\n",
    "        print(num)\n",
    "    print(num)\n",
    "    test1()\n",
    "    print(num)\n",
    "    return test1    \n",
    "\n",
    "result = test() \n",
    "result()"
   ]
  },
  {
   "cell_type": "code",
   "execution_count": null,
   "metadata": {},
   "outputs": [],
   "source": []
  }
 ],
 "metadata": {
  "kernelspec": {
   "display_name": "Python 3",
   "language": "python",
   "name": "python3"
  },
  "language_info": {
   "codemirror_mode": {
    "name": "ipython",
    "version": 3
   },
   "file_extension": ".py",
   "mimetype": "text/x-python",
   "name": "python",
   "nbconvert_exporter": "python",
   "pygments_lexer": "ipython3",
   "version": "3.7.0"
  }
 },
 "nbformat": 4,
 "nbformat_minor": 2
}
