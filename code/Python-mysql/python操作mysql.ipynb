{
 "cells": [
  {
   "cell_type": "code",
   "execution_count": 3,
   "metadata": {},
   "outputs": [
    {
     "name": "stdout",
     "output_type": "stream",
     "text": [
      "<pymysql.connections.Connection object at 0x04249CF0>\n",
      "数据库版本: 5.5.53\n"
     ]
    }
   ],
   "source": [
    "import pymysql\n",
    "db = pymysql.connect(\"localhost\",\"root\",\"root\",\"scrapy_ip\" )\n",
    "print(db)\n",
    "cursor = db.cursor() # 使用 cursor() 方法创建一个游标对象 cursor\n",
    "# 使用 execute()  方法执行 SQL 查询 \n",
    "cursor.execute(\"SELECT VERSION()\")\n",
    "# 使用 fetchone() 方法获取单条数据.\n",
    "data = cursor.fetchone()\n",
    "print(\"数据库版本: %s\" % data)\n",
    "# 关闭数据库链接\n",
    "db.close()"
   ]
  },
  {
   "cell_type": "code",
   "execution_count": 12,
   "metadata": {},
   "outputs": [
    {
     "name": "stdout",
     "output_type": "stream",
     "text": [
      "<pymysql.connections.Connection object at 0x042B6470>\n"
     ]
    }
   ],
   "source": [
    "import pymysql\n",
    "db = pymysql.connect(\"localhost\",\"root\",\"root\",\"scrapy_ip\" )\n",
    "print(db)\n",
    "# 使用 cursor() 方法创建一个游标对象 cursor\n",
    "cursor = db.cursor()\n",
    " \n",
    "# 使用 execute() 方法执行 SQL，如果表存在则删除\n",
    "cursor.execute(\"DROP TABLE IF EXISTS EMPLOYEE\")\n",
    " \n",
    "# 使用预处理语句创建表\n",
    "sql = \"\"\"CREATE TABLE EMPLOYEE (\n",
    "         FIRST_NAME  CHAR(20) NOT NULL,\n",
    "         LAST_NAME  CHAR(20),\n",
    "         AGE INT,  \n",
    "         SEX CHAR(1),\n",
    "         INCOME FLOAT )\"\"\"\n",
    " \n",
    "cursor.execute(sql)\n",
    " \n",
    "# 关闭数据库连接\n",
    "db.close()"
   ]
  },
  {
   "cell_type": "code",
   "execution_count": 14,
   "metadata": {},
   "outputs": [],
   "source": [
    "import pymysql\n",
    "db = pymysql.connect(\"localhost\",\"root\",\"root\",\"scrapy_ip\" )\n",
    "cursor = db.cursor()\n",
    "# SQL 插入语句\n",
    "sql = \"\"\"INSERT INTO EMPLOYEE(FIRST_NAME,\n",
    "         LAST_NAME, AGE, SEX, INCOME)\n",
    "         VALUES ('Mac', 'Mohan', 20, 'M', 2000)\"\"\"\n",
    "try:\n",
    "    # 执行sql语句\n",
    "    cursor.execute(sql)\n",
    "    # 提交到数据库执行\n",
    "    db.commit()\n",
    "except:\n",
    "    db.rollback()\n",
    "db.close()    \n",
    "    "
   ]
  },
  {
   "cell_type": "code",
   "execution_count": 23,
   "metadata": {},
   "outputs": [
    {
     "name": "stdout",
     "output_type": "stream",
     "text": [
      "('Mac', 'Mohan', 20, 'M', 2000.0)\n"
     ]
    }
   ],
   "source": [
    "# 数据库查询\n",
    "# fetchone(): 该方法获取下一个查询结果集。结果集是一个对象\n",
    "# fetchall(): 接收全部的返回结果行.\n",
    "# rowcount: 这是一个只读属性，并返回执行execute()方法后影响的行数。\n",
    "\n",
    "import pymysql\n",
    "db = pymysql.connect(\"localhost\",\"root\",\"root\",\"scrapy_ip\" )\n",
    "cursor = db.cursor()\n",
    "sql = \"SELECT * FROM EMPLOYEE \\\n",
    "       WHERE INCOME > %s\" % (1000)\n",
    "\n",
    "try:\n",
    "    cursor.execute(sql)\n",
    "    # 获取所有的记录列表\n",
    "    # result = cursor.fetchall()\n",
    "    print(cursor.fetchone())\n",
    "#     for row in result:\n",
    "#         fname = row[0]\n",
    "#         lname = row[1]\n",
    "#         age = row[2]\n",
    "#         sex = row[3]\n",
    "#         income = row[4]\n",
    "#         print(\"fname=%s,lname=%s,age=%s,sex=%s,income=%s\" % (fname,lname,age,sex,income))\n",
    "except:\n",
    "    print(\"查询错误\")\n",
    "\n",
    "    \n",
    "db.close()    "
   ]
  },
  {
   "cell_type": "code",
   "execution_count": 25,
   "metadata": {},
   "outputs": [],
   "source": [
    "# 更行数据\n",
    "import pymysql\n",
    "db = pymysql.connect(\"localhost\",\"root\",\"root\",\"scrapy_ip\" )\n",
    "cursor = db.cursor()\n",
    "sql = \"UPDATE EMPLOYEE SET AGE = AGE + 1 WHERE SEX = '%c'\" % ('M')\n",
    "try:\n",
    "   # 执行SQL语句\n",
    "   cursor.execute(sql)\n",
    "   # 提交到数据库执行\n",
    "   db.commit()\n",
    "except:\n",
    "   # 发生错误时回滚\n",
    "   db.rollback()\n",
    "db.close()"
   ]
  },
  {
   "cell_type": "code",
   "execution_count": 31,
   "metadata": {},
   "outputs": [
    {
     "name": "stdout",
     "output_type": "stream",
     "text": [
      "0\n"
     ]
    }
   ],
   "source": [
    "# 获取插入数据的ID\n",
    "import pymysql\n",
    "db = pymysql.connect(\"localhost\",\"root\",\"root\",\"scrapy_ip\" )\n",
    "cursor = db.cursor()\n",
    "sql = \"\"\"\n",
    "INSERT INTO EMPLOYEE(FIRST_NAME,LAST_NAME, AGE, SEX, INCOME)\n",
    "         VALUES (%s,%s,%s,%s,%s)\n",
    "\"\"\"\n",
    "data = ['Mac','Pro',18,'D',3000]\n",
    "try:\n",
    "    cursor.execute(sql, data)\n",
    "    db.commit()\n",
    "    last_id = cursor.lastrowid\n",
    "    print(last_id)\n",
    "except Exception as e:\n",
    "    print(e)\n",
    "    db.rollback()\n",
    "\n",
    "\n",
    "    "
   ]
  }
 ],
 "metadata": {
  "kernelspec": {
   "display_name": "Python 3",
   "language": "python",
   "name": "python3"
  },
  "language_info": {
   "codemirror_mode": {
    "name": "ipython",
    "version": 3
   },
   "file_extension": ".py",
   "mimetype": "text/x-python",
   "name": "python",
   "nbconvert_exporter": "python",
   "pygments_lexer": "ipython3",
   "version": "3.7.0"
  }
 },
 "nbformat": 4,
 "nbformat_minor": 2
}
