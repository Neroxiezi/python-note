{
 "cells": [
  {
   "cell_type": "code",
   "execution_count": 5,
   "metadata": {},
   "outputs": [
    {
     "name": "stdout",
     "output_type": "stream",
     "text": [
      "[1, 2, 3, 4, 5, 6, 7, 8, 9, 0]\n",
      "[2, 3, 4, 5, 6, 7, 8, 9, 0, 1]\n"
     ]
    }
   ],
   "source": [
    "raw = [1,2,3,4,5,6,7,8,9,0]\n",
    "print(raw)\n",
    "b = raw.pop(0)\n",
    "raw.append(b)\n",
    "print(raw)from __future__ import division"
   ]
  },
  {
   "cell_type": "code",
   "execution_count": 9,
   "metadata": {},
   "outputs": [
    {
     "data": {
      "text/plain": [
       "['BPF',\n",
       " 'LOG4',\n",
       " 'NV_MAGICCONST',\n",
       " 'RECIP_BPF',\n",
       " 'Random',\n",
       " 'SG_MAGICCONST',\n",
       " 'SystemRandom',\n",
       " 'TWOPI',\n",
       " '_BuiltinMethodType',\n",
       " '_MethodType',\n",
       " '_Sequence',\n",
       " '_Set',\n",
       " '__all__',\n",
       " '__builtins__',\n",
       " '__cached__',\n",
       " '__doc__',\n",
       " '__file__',\n",
       " '__loader__',\n",
       " '__name__',\n",
       " '__package__',\n",
       " '__spec__',\n",
       " '_acos',\n",
       " '_bisect',\n",
       " '_ceil',\n",
       " '_cos',\n",
       " '_e',\n",
       " '_exp',\n",
       " '_inst',\n",
       " '_itertools',\n",
       " '_log',\n",
       " '_os',\n",
       " '_pi',\n",
       " '_random',\n",
       " '_sha512',\n",
       " '_sin',\n",
       " '_sqrt',\n",
       " '_test',\n",
       " '_test_generator',\n",
       " '_urandom',\n",
       " '_warn',\n",
       " 'betavariate',\n",
       " 'choice',\n",
       " 'choices',\n",
       " 'expovariate',\n",
       " 'gammavariate',\n",
       " 'gauss',\n",
       " 'getrandbits',\n",
       " 'getstate',\n",
       " 'lognormvariate',\n",
       " 'normalvariate',\n",
       " 'paretovariate',\n",
       " 'randint',\n",
       " 'random',\n",
       " 'randrange',\n",
       " 'sample',\n",
       " 'seed',\n",
       " 'setstate',\n",
       " 'shuffle',\n",
       " 'triangular',\n",
       " 'uniform',\n",
       " 'vonmisesvariate',\n",
       " 'weibullvariate']"
      ]
     },
     "execution_count": 9,
     "metadata": {},
     "output_type": "execute_result"
    }
   ],
   "source": [
    "import random\n",
    "dir(random)"
   ]
  },
  {
   "cell_type": "code",
   "execution_count": 12,
   "metadata": {},
   "outputs": [
    {
     "name": "stdout",
     "output_type": "stream",
     "text": [
      "[3, 46, 93, 15, 57, 11, 36, 7, 42, 22, 31, 66, 94, 97, 9, 81, 26, 96, 82, 64, 93, 68, 9, 85, 9, 86, 3, 38, 22, 4, 2, 80, 60, 86, 76, 55, 65, 35, 1, 37]\n",
      "40\n",
      "the average score is:47.3\n",
      "There are 21 students less than average.\n",
      "[97, 96, 94, 93, 93, 86, 86, 85, 82, 81, 80, 76, 68, 66, 65, 64, 60, 57, 55, 46, 42, 38, 37, 36, 35, 31, 26, 22, 22, 15, 11, 9, 9, 9, 7, 4, 3, 3, 2, 1]\n"
     ]
    }
   ],
   "source": [
    "from __future__ import division\n",
    "import random\n",
    "score = [random.randint(0,100) for i in range(40)]    #0 到 100 之间，随机得到 40 个整数，组成列表\n",
    "print(score)\n",
    "num = len(score)\n",
    "print(num)\n",
    "sum_score = sum(score)               #对列表中的整数求和\n",
    "ave_num = sum_score/num              #计算平均数\n",
    "less_ave = len([i for i in score if i<ave_num])    #将小于平均数的找出来，组成新的列表，并度量该列表的长度\n",
    "print(\"the average score is:%.1f\" % ave_num)\n",
    "print(\"There are %d students less than average.\" % less_ave)\n",
    "\n",
    "sorted_score = sorted(score, reverse=True)    #对原列表排序\n",
    "print(sorted_score)"
   ]
  },
  {
   "cell_type": "code",
   "execution_count": 23,
   "metadata": {},
   "outputs": [
    {
     "name": "stdout",
     "output_type": "stream",
     "text": [
      "I love you .\n",
      "['I', 'love', 'you', '.']\n",
      "['I', 'love', 'you', '.']\n",
      "I love you .\n"
     ]
    }
   ],
   "source": [
    "string = \"I love you .\"\n",
    "print(string)\n",
    "str_lst = string.split(\" \")\n",
    "print(str_lst)\n",
    "words = [s.strip() for s in str_lst]    #去除单词两边的空格\n",
    "print(words)\n",
    "new_string = \" \".join(words)\n",
    "print(new_string)"
   ]
  },
  {
   "cell_type": "code",
   "execution_count": 25,
   "metadata": {},
   "outputs": [
    {
     "name": "stdout",
     "output_type": "stream",
     "text": [
      "3\n"
     ]
    }
   ],
   "source": [
    "def add_function(a,b):\n",
    "    c = a + b\n",
    "    print(c)\n",
    "    \n",
    "if __name__==\"__main__\":\n",
    "    add_function(1,2)"
   ]
  },
  {
   "cell_type": "code",
   "execution_count": 28,
   "metadata": {},
   "outputs": [
    {
     "name": "stdout",
     "output_type": "stream",
     "text": [
      "[0, 1]\n",
      "[0, 1, 1, 2, 3, 5, 8, 13, 21, 34]\n"
     ]
    }
   ],
   "source": [
    "def fibs(n):\n",
    "    result = [0,1]\n",
    "    print(result)\n",
    "    for i in range(n-2):\n",
    "        result.append(result[-2] + result[-1])\n",
    "    return result    \n",
    "    \n",
    "if __name__ == \"__main__\":\n",
    "    lst = fibs(10)\n",
    "    print(lst)    "
   ]
  },
  {
   "cell_type": "code",
   "execution_count": 29,
   "metadata": {},
   "outputs": [
    {
     "name": "stdout",
     "output_type": "stream",
     "text": [
      "False\n"
     ]
    }
   ],
   "source": [
    "from __future__ import division\n",
    "import math\n",
    "def quadratic_equation(a,b,c):\n",
    "    delta = b*b - 4*a*c\n",
    "    if delta<0:\n",
    "        return False\n",
    "    elif delta==0:\n",
    "        return -(b/(2*a))\n",
    "    else:\n",
    "        sqrt_delta = math.sqrt(delta)\n",
    "        x1 = (-b + sqrt_delta)/(2*a)\n",
    "        x2 = (-b - sqrt_delta)/(2*a)\n",
    "        return x1, x2\n",
    "if __name__ ==\"__main__\":\n",
    "    print(quadratic_equation(1,2,3))"
   ]
  },
  {
   "cell_type": "code",
   "execution_count": 36,
   "metadata": {},
   "outputs": [
    {
     "name": "stdout",
     "output_type": "stream",
     "text": [
      "80.22222222222223\n",
      "[(49, 'yahoo'), (52, 'baidu'), (70, 'IBM'), (76, 'android'), (80, 'alibaba'), (98, 'google'), (99, 'amazon'), (99, 'apple'), (99, 'facebook')]\n",
      "[('yahoo', 49), ('baidu', 52), ('IBM', 70), ('android', 76), ('alibaba', 80), ('google', 98), ('amazon', 99), ('apple', 99), ('facebook', 99)]\n"
     ]
    }
   ],
   "source": [
    "from __future__ import division\n",
    "\n",
    "def average_score(scores):\n",
    "    score_values = scores.values()\n",
    "    sum_scores = sum(score_values)\n",
    "    average = sum_scores/len(score_values)\n",
    "    return average\n",
    "def sorted_score(scores):\n",
    "    score_lst = [(scores[k],k) for k in scores]\n",
    "    # print(score_lst)\n",
    "    sort_lst = sorted(score_lst, reverse=True)\n",
    "    return [(i[1], i[0]) for i in sort_lst]\n",
    "def max_score(scores):\n",
    "    lst = sorted_score(scores)    #引用分数排序的函数 sorted_score\n",
    "    max_score = lst[0][1]\n",
    "    return [(i[0],i[1]) for i in lst if i[1]==max_score]\n",
    "def min_score(scores):\n",
    "    \"\"\"\n",
    "    成绩最低的姓名和分数.\n",
    "    \"\"\"\n",
    "    lst = sorted_score(scores)\n",
    "    min_score = lst[len(lst)-1][1]\n",
    "    return [(i[0],i[1]) for i in lst if i[1]==min_score]\n",
    "\n",
    "if __name__ == \"__main__\":\n",
    "    examine_scores = {\"google\":98, \"facebook\":99, \"baidu\":52, \"alibaba\":80, \"yahoo\":49, \"IBM\":70, \"android\":76, \"apple\":99, \"amazon\":99}\n",
    "    ave = average_score(examine_scores)\n",
    "    print(ave)\n",
    "    sor = sorted_score(examine_scores)\n",
    "    print(sor)\n",
    "    \n",
    "    \n",
    "    \n",
    "    \n",
    "    "
   ]
  },
  {
   "cell_type": "code",
   "execution_count": 4,
   "metadata": {},
   "outputs": [
    {
     "name": "stdout",
     "output_type": "stream",
     "text": [
      "<map object at 0x04278E30>\n"
     ]
    }
   ],
   "source": [
    "# map 函数\n",
    "def f(x):\n",
    "    return x*x\n",
    "\n",
    "print(map(f,[1,2,3,4,5,6,7]))\n"
   ]
  },
  {
   "cell_type": "code",
   "execution_count": 6,
   "metadata": {},
   "outputs": [
    {
     "name": "stdout",
     "output_type": "stream",
     "text": [
      "[5, 9, 12, 21, 36]\n"
     ]
    }
   ],
   "source": [
    "print(sorted([36, 5, 12, 9, 21])) # 排序函数\n"
   ]
  },
  {
   "cell_type": "code",
   "execution_count": 19,
   "metadata": {},
   "outputs": [
    {
     "name": "stdout",
     "output_type": "stream",
     "text": [
      "调用了 def __new__ 方法\n",
      "('两点水', 23)\n",
      "调用了 def __init__ 方法\n"
     ]
    }
   ],
   "source": [
    "class User(object):\n",
    "    def __new__(cls, *args, **kwargs):\n",
    "        # 打印 __new__方法中的相关信息\n",
    "        print('调用了 def __new__ 方法')\n",
    "        print(args)\n",
    "        # 最后返回父类的方法\n",
    "        return super(User, cls).__new__(cls)\n",
    "\n",
    "    def __init__(self, name, age):\n",
    "        print('调用了 def __init__ 方法')\n",
    "        self.name = name\n",
    "        self.age = age\n",
    "\n",
    "\n",
    "if __name__ == '__main__':\n",
    "    usr = User('两点水', 23)    "
   ]
  },
  {
   "cell_type": "code",
   "execution_count": 26,
   "metadata": {},
   "outputs": [
    {
     "name": "stdout",
     "output_type": "stream",
     "text": [
      "__eq__\n",
      "num1 == num2 ?------->False \n",
      "\n",
      "__ne__\n",
      "num1 != num2 ?------->True \n",
      "\n",
      "__gt__\n",
      "num1 > num2 ?------->False \n",
      "\n",
      "__lt__\n",
      "num1 < num2 ?------->True \n",
      "\n",
      "__ge__\n",
      "num1 >= num2 ?------->False \n",
      "\n",
      "__lt__\n",
      "num1 <= num2 ?------->True \n",
      "\n"
     ]
    }
   ],
   "source": [
    "class Number(object):\n",
    "    def __init__(self, value):\n",
    "        self.value = value\n",
    "    def __eq__(self, other):\n",
    "        print('__eq__')\n",
    "        return self.value == other.value\n",
    "    def __ne__(self, other):\n",
    "        print('__ne__')\n",
    "        return self.value != other.value\n",
    "    \n",
    "    def __lt__(self, other):\n",
    "        print('__lt__')\n",
    "        return self.value < other.value\n",
    "\n",
    "    def __gt__(self, other):\n",
    "        print('__gt__')\n",
    "        return self.value > other.value\n",
    "\n",
    "    def __le__(self, other):\n",
    "        print('__le__')\n",
    "        return self.value <= other.value\n",
    "\n",
    "    def __ge__(self, other):\n",
    "        print('__ge__')\n",
    "        return self.value >= other.value\n",
    "\n",
    "if __name__ == '__main__':\n",
    "    num1 = Number(2)\n",
    "    num2 = Number(3)\n",
    "    print('num1 == num2 ?------->{} \\n'.format(num1 == num2))\n",
    "    print('num1 != num2 ?------->{} \\n'.format(num1 != num2))\n",
    "    print('num1 > num2 ?------->{} \\n'.format(num1 > num2))\n",
    "    print('num1 < num2 ?------->{} \\n'.format(num1 < num2))\n",
    "    print('num1 >= num2 ?------->{} \\n'.format(num1 >= num2))\n",
    "    print('num1 <= num2 ?------->{} \\n'.format(num1 < num2))\n",
    "        "
   ]
  }
 ],
 "metadata": {
  "kernelspec": {
   "display_name": "Python 3",
   "language": "python",
   "name": "python3"
  },
  "language_info": {
   "codemirror_mode": {
    "name": "ipython",
    "version": 3
   },
   "file_extension": ".py",
   "mimetype": "text/x-python",
   "name": "python",
   "nbconvert_exporter": "python",
   "pygments_lexer": "ipython3",
   "version": "3.7.0"
  }
 },
 "nbformat": 4,
 "nbformat_minor": 2
}
