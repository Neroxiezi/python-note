{
 "cells": [
  {
   "cell_type": "code",
   "execution_count": 23,
   "metadata": {},
   "outputs": [
    {
     "name": "stdout",
     "output_type": "stream",
     "text": [
      "passed user veriftcation...\n",
      "welcom zhang to TV page\n"
     ]
    }
   ],
   "source": [
    "# 装饰器作用:可以理解为对原函数对象或者类对象进行代理或者包装，增强原有的函数和类功能 能够管理函数对象和函数调用，也能够管理定义类对象的类本身和实例对象\n",
    "\n",
    "# 函数装饰器\n",
    "#实例：实现程序执行前的验证\n",
    "def login(funct):   #验证函数\n",
    "    def inner(arg):  #嵌套函数是为了不让验证函数不执行\n",
    "        print('passed user veriftcation...')\n",
    "        funct(arg)\n",
    "    return inner    #将内嵌函数内存地址返回给login\n",
    "\n",
    "@login     #@是装饰器的语法糖，它实际就是等于tv=login(tv)\n",
    "def tv(name):   #执行程序函数\n",
    "    print('welcom %s to TV page' %name)\n",
    "\n",
    "#tv = login(tv)    #相当与@login，与装饰器的作用一样\n",
    "tv('zhang')    #执行程序前，通过装饰器验证"
   ]
  },
  {
   "cell_type": "code",
   "execution_count": 32,
   "metadata": {},
   "outputs": [
    {
     "name": "stdout",
     "output_type": "stream",
     "text": [
      "([1, 2, 3, 4], {'k1': 'v1', 'k2': 'v2'})登陆验证{}！\n",
      "\n",
      "登陆后台！([1, 2, 3, 4], {'k1': 'v1', 'k2': 'v2'}),{}\n",
      "([1, 2, 3, 4], {'k1': 'v1', 'k2': 'v2'})登陆后操作！{}\n",
      "\n"
     ]
    }
   ],
   "source": [
    "#验证函数\n",
    "def login(*args,**kwargs):\n",
    "    print('%s登陆验证%s！\\n'%(args,kwargs))\n",
    "#登陆后操作\n",
    "def quanxian(*args,**kwargs):\n",
    "    print('%s登陆后操作！%s\\n'%(args,kwargs))\n",
    "#装饰器\n",
    "def decorator(login_func,quanxian_func): #传参2个函数\n",
    "    def inner(index_func):   #传参登陆函数\n",
    "        def inner2(*args,**kwargs):  #接收index的传参\n",
    "            login_func(*args,**kwargs)  #执行login函数\n",
    "            index_func(*args,**kwargs)  #执行index函数\n",
    "            quanxian_func(*args,**kwargs)  #执行quanxian函数\n",
    "        return inner2   #返回函数地址\n",
    "    return inner  #返回函数地址\n",
    "@decorator(login,quanxian)  #执行装饰器\n",
    "def index(*args,**kwargs):  #登陆函数\n",
    "    print('登陆后台！%s,%s'%(args,kwargs))\n",
    "l1 = [1,2,3,4]\n",
    "dic = {'k1':'v1','k2':'v2'}\n",
    "index(l1,dic)    #执行函数 "
   ]
  },
  {
   "cell_type": "code",
   "execution_count": null,
   "metadata": {},
   "outputs": [],
   "source": []
  }
 ],
 "metadata": {
  "kernelspec": {
   "display_name": "Python 3",
   "language": "python",
   "name": "python3"
  },
  "language_info": {
   "codemirror_mode": {
    "name": "ipython",
    "version": 3
   },
   "file_extension": ".py",
   "mimetype": "text/x-python",
   "name": "python",
   "nbconvert_exporter": "python",
   "pygments_lexer": "ipython3",
   "version": "3.7.0"
  }
 },
 "nbformat": 4,
 "nbformat_minor": 2
}
