{
 "cells": [
  {
   "cell_type": "code",
   "execution_count": 7,
   "metadata": {},
   "outputs": [
    {
     "name": "stdout",
     "output_type": "stream",
     "text": [
      "D:\\phpStudy\\WWW\\python-note\n",
      "D:\\phpStudy\\WWW\n"
     ]
    }
   ],
   "source": [
    "import os\n",
    "# getcwd() 返回当前的工作目录\n",
    "print(os.getcwd())\n",
    "# chdir()  切换工作目录\n",
    "os.chdir('../')\n",
    "print(os.getcwd())\n"
   ]
  },
  {
   "cell_type": "code",
   "execution_count": 10,
   "metadata": {},
   "outputs": [
    {
     "name": "stdout",
     "output_type": "stream",
     "text": [
      "D:\\phpStudy\\WWW\\python-note\\code\\Python-data\n",
      "D:\\phpStudy\\WWW\\python-note\\code\\Python-data\n",
      "['.ipynb_checkpoints', 'os模块.ipynb', 'sklearn.py', 'Untitled.ipynb', '__pycache__', '异常处理.ipynb']\n"
     ]
    }
   ],
   "source": [
    "import os\n",
    "print(os.getcwd())\n",
    "os.chdir('D:\\phpStudy\\WWW\\python-note\\code\\Python-data')\n",
    "print(os.getcwd())\n",
    "#listdir() 打印出目录下的内容\n",
    "dir_list = os.listdir('./')\n",
    "print(dir_list)"
   ]
  },
  {
   "cell_type": "code",
   "execution_count": 19,
   "metadata": {},
   "outputs": [
    {
     "name": "stdout",
     "output_type": "stream",
     "text": [
      "['.ipynb_checkpoints', 'os模块.ipynb', 'sklearn.py', 'test_dir', 'test_dir1', 'Untitled.ipynb', '__pycache__', '异常处理.ipynb']\n",
      "['.ipynb_checkpoints', 'os模块.ipynb', 'sklearn.py', 'test_dir1', 'Untitled.ipynb', '__pycache__', '异常处理.ipynb']\n"
     ]
    }
   ],
   "source": [
    "# mkdir()\n",
    "dir_list = os.listdir('./')\n",
    "print(dir_list)\n",
    "os.removedirs('./test_dir')\n",
    "dir_list1 = os.listdir('./')\n",
    "print(dir_list1)\n",
    "# os.mkdir('test_dir1',755)\n",
    "# dir_list1 = os.listdir('./')\n",
    "# print(dir_list1)"
   ]
  }
 ],
 "metadata": {
  "kernelspec": {
   "display_name": "Python 3",
   "language": "python",
   "name": "python3"
  },
  "language_info": {
   "codemirror_mode": {
    "name": "ipython",
    "version": 3
   },
   "file_extension": ".py",
   "mimetype": "text/x-python",
   "name": "python",
   "nbconvert_exporter": "python",
   "pygments_lexer": "ipython3",
   "version": "3.7.0"
  }
 },
 "nbformat": 4,
 "nbformat_minor": 2
}
